{
  "cells": [
    {
      "cell_type": "markdown",
      "metadata": {
        "id": "view-in-github",
        "colab_type": "text"
      },
      "source": [
        "<a href=\"https://colab.research.google.com/github/GabrielCachoa/Sat-Heuristics/blob/main/SAT_Todas_mis_heur%C3%ADsticas.ipynb\" target=\"_parent\"><img src=\"https://colab.research.google.com/assets/colab-badge.svg\" alt=\"Open In Colab\"/></a>"
      ]
    },
    {
      "cell_type": "code",
      "execution_count": null,
      "metadata": {
        "id": "73ieotwnKXbF"
      },
      "outputs": [],
      "source": [
        "import numpy as np\n",
        "from numpy import random\n",
        "import matplotlib.pyplot as plt\n",
        "import timeit\n",
        "import statistics\n",
        "import pandas \n",
        "import csv\n",
        "import time\n",
        "import glob\n",
        "from os.path import isfile\n"
      ]
    },
    {
      "cell_type": "code",
      "source": [
        "import pickle\n",
        "\n",
        "open_file = open('/content/15queensP.pkl', \"rb\")\n",
        "PQueens = pickle.load(open_file)\n",
        "open_file.close()\n",
        "pQueens = [15**2,len(PQueens)]\n",
        "\n",
        "for i in range(len(PQueens)):\n",
        "  if len(PQueens[i])<15:\n",
        "    PQueens[i].extend([0]*(15- len(PQueens[i])))\n",
        "\n",
        "PQueens = np.array(PQueens)\n",
        "\n",
        "open_file = open('/content/Pcolor.pkl', \"rb\")\n",
        "Pcolor = pickle.load(open_file)\n",
        "open_file.close()\n",
        "pcolor = [23*5,len(Pcolor)]\n",
        "\n",
        "for i in range(len(Pcolor)):\n",
        "  if len(Pcolor[i])<5:\n",
        "    Pcolor[i].extend([0]*(5- len(Pcolor[i])))\n",
        "\n",
        "Pcolor = np.array(Pcolor)\n",
        "\n",
        "\n",
        "\n",
        "(p175,P175) = load('/content/drive/MyDrive/Tesis Gabriel Cachoa/Benchmarks/UF175.753.100/uf175-01.txt')\n",
        "s=np.random.randint(0,2,p175[0])"
      ],
      "metadata": {
        "id": "QralmUhvzK0u"
      },
      "execution_count": null,
      "outputs": []
    },
    {
      "cell_type": "markdown",
      "metadata": {
        "id": "68nEIA4GuO4o"
      },
      "source": [
        "# Cargar instancias\n",
        "\n",
        "p = [ número de vars, número de cláusulas ]\n",
        "\n",
        "P np.array igual que la matriz dada por la instancia"
      ]
    },
    {
      "cell_type": "code",
      "execution_count": null,
      "metadata": {
        "id": "2YNBT0CJuVzP"
      },
      "outputs": [],
      "source": [
        "def load(fn):\n",
        "  f = open(fn, 'r')\n",
        "  data = f.read()\n",
        "  f.close()\n",
        "  clauses = []\n",
        "  lines = data.split(\"\\n\")\n",
        "  p=[]\n",
        "\n",
        "  for line in lines:\n",
        "    if len(line) == 0 or line[0] in ['c', '%', '0']:\n",
        "      continue\n",
        "\n",
        "    if line[0]=='p':\n",
        "      problemline=line.split()\n",
        "      p.extend([int(problemline[2]),int(problemline[3])])\n",
        "    else:\n",
        "      clause = [int(x) for x in line.split()[0:-1]]\n",
        "      clauses.append([x for x in clause])\n",
        "\n",
        "\n",
        "  P=np.array(clauses)\n",
        "\n",
        "  return (p,P)\n"
      ]
    },
    {
      "cell_type": "markdown",
      "metadata": {
        "id": "gAagdgvUZ-ZJ"
      },
      "source": [
        "# Búsqueda Local\n",
        "\n",
        "f(P,s)\n",
        "\n",
        "como en la definición del latex\n",
        "\n",
        "Neighborhood(p,s,c,n,seed)\n",
        "\n",
        "p es la línea del problema\n",
        "s solución dada (np.array)\n",
        "c número de cambios (int)\n",
        "n tamaño de la vec. (int)\n",
        "seed semilla (int)"
      ]
    },
    {
      "cell_type": "code",
      "execution_count": null,
      "metadata": {
        "id": "TkdILOKHt9IY"
      },
      "outputs": [],
      "source": [
        "def f(P,s):\n",
        "  (n,m)=P.shape\n",
        "  values=np.zeros(n)\n",
        "  Q=np.copy(P)\n",
        "  for i in range(n):\n",
        "    for j in range(m):\n",
        "      if s[np.abs(Q[i,j])-1]==0:\n",
        "        Q[i,j]=Q[i,j]*(-1)\n",
        "    values[i]=np.sign(np.max(Q[i,:]))\n",
        "  values[values==-1]=0\n",
        "  return sum(values)"
      ]
    },
    {
      "cell_type": "code",
      "execution_count": null,
      "metadata": {
        "id": "soq7Zhqzu0w0"
      },
      "outputs": [],
      "source": [
        "def Neighborhood(p,s,n,c,seed):\n",
        "  m=p[0]\n",
        "  V=np.zeros((n+1,m))\n",
        "  V[0,:]=s\n",
        "  random.seed(seed)\n",
        "  for i in range(1,n+1):\n",
        "    V[i,:] = s\n",
        "    for j in range(c):\n",
        "      c1=random.randint(0,m)\n",
        "      V[i,c1]=1-V[i,c1]\n",
        "  return V"
      ]
    },
    {
      "cell_type": "markdown",
      "metadata": {
        "id": "P7N4aUo_JbPX"
      },
      "source": [
        "---\n",
        "\n"
      ]
    },
    {
      "cell_type": "code",
      "execution_count": null,
      "metadata": {
        "id": "uUKspPoC8UQZ"
      },
      "outputs": [],
      "source": [
        "def LocalSearch(P,V):\n",
        "  v=[]\n",
        "  for i in range(V.shape[0]):\n",
        "    v.append(f(P,V[i,:]))\n",
        "  f_star=max(v)\n",
        "  s_star=V[v.index(max(v))]\n",
        "  return (f_star,s_star)"
      ]
    },
    {
      "cell_type": "code",
      "execution_count": null,
      "metadata": {
        "id": "jJcme17VLIin"
      },
      "outputs": [],
      "source": [
        "def HillClimbing(P,p,s,n,c,seed,TIME):\n",
        "  start_time = time.time()\n",
        "  now_time = time.time()\n",
        "\n",
        "  s_star = np.copy(s)\n",
        "\n",
        "  while now_time - start_time < TIME:\n",
        "    (f_star,s_star) = LocalSearch(P,Neighborhood(p,s_star,n,c,seed))\n",
        "    s = np.copy(s_star)\n",
        "    now_time = time.time()\n",
        "    \n",
        "  return (f_star,s_star)"
      ]
    },
    {
      "cell_type": "code",
      "source": [
        "s=np.random.randint(0,2,529)"
      ],
      "metadata": {
        "id": "QIQUW2G2zmeL"
      },
      "execution_count": null,
      "outputs": []
    },
    {
      "cell_type": "code",
      "source": [
        "s"
      ],
      "metadata": {
        "colab": {
          "base_uri": "https://localhost:8080/"
        },
        "id": "KxqlngQf0D8b",
        "outputId": "a8ed1717-3a93-40bc-c616-4d2236621ff7"
      },
      "execution_count": null,
      "outputs": [
        {
          "output_type": "execute_result",
          "data": {
            "text/plain": [
              "array([0, 0, 0, 0, 1, 0, 1, 1, 1, 0, 1, 0, 1, 1, 0, 0, 1, 0, 1, 1, 1, 0,\n",
              "       1, 1, 0, 0, 0, 0, 0, 1, 0, 1, 0, 1, 1, 0, 0, 0, 1, 0, 0, 1, 0, 0,\n",
              "       1, 1, 1, 1, 1, 1, 0, 0, 0, 0, 0, 0, 1, 1, 1, 0, 1, 1, 0, 1, 1, 0,\n",
              "       0, 0, 0, 0, 1, 0, 0, 1, 1, 1, 1, 1, 1, 1, 1, 0, 0, 0, 0, 0, 0, 1,\n",
              "       0, 1, 0, 0, 1, 0, 0, 0, 1, 1, 1, 0, 0, 0, 0, 0, 0, 1, 0, 0, 1, 0,\n",
              "       0, 1, 1, 0, 0, 1, 0, 0, 0, 0, 1, 0, 1, 1, 0, 0, 0, 1, 0, 1, 1, 1,\n",
              "       0, 1, 1, 1, 0, 0, 0, 0, 1, 1, 0, 0, 0, 1, 1, 1, 1, 1, 0, 0, 1, 0,\n",
              "       1, 1, 1, 1, 0, 0, 0, 0, 1, 0, 0, 0, 1, 0, 1, 0, 0, 1, 1, 0, 0, 0,\n",
              "       1, 0, 1, 1, 0, 1, 1, 0, 1, 1, 0, 1, 0, 0, 1, 0, 1, 0, 0, 0, 1, 0,\n",
              "       0, 1, 1, 0, 1, 0, 1, 0, 0, 1, 1, 0, 1, 1, 0, 0, 0, 0, 0, 1, 0, 1,\n",
              "       0, 1, 0, 1, 0, 1, 0, 1, 0, 1, 1, 0, 0, 1, 1, 0, 0, 0, 0, 1, 0, 1,\n",
              "       0, 0, 0, 1, 1, 0, 1, 0, 0, 1, 1, 1, 0, 0, 1, 1, 0, 1, 0, 1, 0, 1,\n",
              "       0, 0, 1, 1, 1, 0, 1, 1, 0, 1, 1, 0, 0, 1, 0, 0, 0, 1, 0, 1, 1, 1,\n",
              "       0, 0, 1, 1, 1, 0, 0, 0, 0, 0, 0, 1, 1, 1, 1, 0, 1, 1, 1, 1, 0, 0,\n",
              "       1, 1, 1, 1, 1, 0, 1, 1, 0, 1, 1, 1, 0, 0, 1, 1, 0, 1, 0, 1, 0, 0,\n",
              "       1, 1, 0, 1, 0, 1, 0, 0, 1, 1, 0, 1, 1, 0, 1, 0, 0, 0, 1, 1, 1, 1,\n",
              "       0, 0, 0, 0, 0, 1, 1, 1, 0, 0, 1, 1, 1, 1, 0, 0, 1, 0, 1, 1, 0, 0,\n",
              "       1, 1, 1, 1, 1, 1, 1, 0, 0, 1, 1, 0, 1, 0, 1, 0, 0, 1, 0, 1, 0, 1,\n",
              "       0, 1, 0, 1, 1, 1, 1, 1, 1, 1, 1, 0, 1, 0, 0, 0, 0, 1, 1, 1, 1, 1,\n",
              "       1, 1, 1, 1, 0, 0, 0, 1, 1, 0, 0, 0, 1, 0, 0, 1, 1, 0, 0, 1, 1, 0,\n",
              "       1, 1, 0, 0, 1, 0, 1, 1, 0, 1, 0, 0, 1, 1, 1, 0, 1, 0, 1, 1, 0, 0,\n",
              "       0, 1, 1, 1, 0, 0, 0, 1, 0, 0, 1, 1, 1, 0, 0, 0, 1, 0, 0, 0, 0, 1,\n",
              "       1, 0, 0, 1, 0, 0, 0, 1, 0, 0, 0, 1, 0, 1, 1, 1, 0, 0, 0, 0, 1, 1,\n",
              "       1, 0, 1, 1, 1, 0, 0, 1, 0, 1, 1, 1, 0, 1, 0, 1, 1, 0, 0, 1, 0, 0,\n",
              "       0])"
            ]
          },
          "metadata": {},
          "execution_count": 32
        }
      ]
    },
    {
      "cell_type": "code",
      "source": [
        "f(Phamiltonian,[0, 0, 0, 0, 1, 0, 1, 1, 1, 0, 1, 0, 1, 1, 0, 0, 1, 0, 1, 1, 1, 0,\n",
        "       1, 1, 0, 0, 0, 0, 0, 1, 0, 1, 0, 1, 1, 0, 0, 0, 1, 0, 0, 1, 0, 0,\n",
        "       1, 1, 1, 1, 1, 1, 0, 0, 0, 0, 0, 0, 1, 1, 1, 0, 1, 1, 0, 1, 1, 0,\n",
        "       0, 0, 0, 0, 1, 0, 0, 1, 1, 1, 1, 1, 1, 1, 1, 0, 0, 0, 0, 0, 0, 1,\n",
        "       0, 1, 0, 0, 1, 0, 0, 0, 1, 1, 1, 0, 0, 0, 0, 0, 0, 1, 0, 0, 1, 0,\n",
        "       0, 1, 1, 0, 0, 1, 0, 0, 0, 0, 1, 0, 1, 1, 0, 0, 0, 1, 0, 1, 1, 1,\n",
        "       0, 1, 1, 1, 0, 0, 0, 0, 1, 1, 0, 0, 0, 1, 1, 1, 1, 1, 0, 0, 1, 0,\n",
        "       1, 1, 1, 1, 0, 0, 0, 0, 1, 0, 0, 0, 1, 0, 1, 0, 0, 1, 1, 0, 0, 0,\n",
        "       1, 0, 1, 1, 0, 1, 1, 0, 1, 1, 0, 1, 0, 0, 1, 0, 1, 0, 0, 0, 1, 0,\n",
        "       0, 1, 1, 0, 1, 0, 1, 0, 0, 1, 1, 0, 1, 1, 0, 0, 0, 0, 0, 1, 0, 1,\n",
        "       0, 1, 0, 1, 0, 1, 0, 1, 0, 1, 1, 0, 0, 1, 1, 0, 0, 0, 0, 1, 0, 1,\n",
        "       0, 0, 0, 1, 1, 0, 1, 0, 0, 1, 1, 1, 0, 0, 1, 1, 0, 1, 0, 1, 0, 1,\n",
        "       0, 0, 1, 1, 1, 0, 1, 1, 0, 1, 1, 0, 0, 1, 0, 0, 0, 1, 0, 1, 1, 1,\n",
        "       0, 0, 1, 1, 1, 0, 0, 0, 0, 0, 0, 1, 1, 1, 1, 0, 1, 1, 1, 1, 0, 0,\n",
        "       1, 1, 1, 1, 1, 0, 1, 1, 0, 1, 1, 1, 0, 0, 1, 1, 0, 1, 0, 1, 0, 0,\n",
        "       1, 1, 0, 1, 0, 1, 0, 0, 1, 1, 0, 1, 1, 0, 1, 0, 0, 0, 1, 1, 1, 1,\n",
        "       0, 0, 0, 0, 0, 1, 1, 1, 0, 0, 1, 1, 1, 1, 0, 0, 1, 0, 1, 1, 0, 0,\n",
        "       1, 1, 1, 1, 1, 1, 1, 0, 0, 1, 1, 0, 1, 0, 1, 0, 0, 1, 0, 1, 0, 1,\n",
        "       0, 1, 0, 1, 1, 1, 1, 1, 1, 1, 1, 0, 1, 0, 0, 0, 0, 1, 1, 1, 1, 1,\n",
        "       1, 1, 1, 1, 0, 0, 0, 1, 1, 0, 0, 0, 1, 0, 0, 1, 1, 0, 0, 1, 1, 0,\n",
        "       1, 1, 0, 0, 1, 0, 1, 1, 0, 1, 0, 0, 1, 1, 1, 0, 1, 0, 1, 1, 0, 0,\n",
        "       0, 1, 1, 1, 0, 0, 0, 1, 0, 0, 1, 1, 1, 0, 0, 0, 1, 0, 0, 0, 0, 1,\n",
        "       1, 0, 0, 1, 0, 0, 0, 1, 0, 0, 0, 1, 0, 1, 1, 1, 0, 0, 0, 0, 1, 1,\n",
        "       1, 0, 1, 1, 1, 0, 0, 1, 0, 1, 1, 1, 0, 1, 0, 1, 1, 0, 0, 1, 0, 0,\n",
        "       0])"
      ],
      "metadata": {
        "colab": {
          "base_uri": "https://localhost:8080/"
        },
        "id": "YmiCDGyzz-FF",
        "outputId": "dcc06aaf-1e46-48b9-b9a7-3d6312540894"
      },
      "execution_count": null,
      "outputs": [
        {
          "output_type": "execute_result",
          "data": {
            "text/plain": [
              "8837.0"
            ]
          },
          "metadata": {},
          "execution_count": 34
        }
      ]
    },
    {
      "cell_type": "code",
      "source": [
        "HillClimbing(Phamiltonian,phamiltonian,s,100,3,123456,60)"
      ],
      "metadata": {
        "colab": {
          "base_uri": "https://localhost:8080/"
        },
        "id": "BS87LRPtcmzp",
        "outputId": "11805268-145a-4583-c14d-e3ac5ff0fcf1"
      },
      "execution_count": null,
      "outputs": [
        {
          "output_type": "execute_result",
          "data": {
            "text/plain": [
              "(8911.0,\n",
              " array([0., 0., 0., 0., 1., 0., 1., 1., 1., 0., 1., 0., 1., 1., 0., 0., 1.,\n",
              "        0., 1., 1., 1., 0., 1., 1., 0., 0., 0., 0., 0., 1., 0., 1., 0., 1.,\n",
              "        1., 0., 0., 0., 1., 0., 0., 1., 0., 0., 1., 1., 1., 1., 1., 1., 0.,\n",
              "        0., 0., 0., 0., 0., 1., 1., 1., 0., 1., 1., 0., 1., 1., 0., 0., 0.,\n",
              "        0., 0., 1., 0., 0., 1., 1., 1., 1., 1., 1., 1., 1., 0., 0., 0., 0.,\n",
              "        0., 0., 1., 0., 1., 0., 0., 1., 0., 0., 0., 1., 1., 1., 0., 0., 0.,\n",
              "        0., 0., 0., 1., 0., 0., 1., 0., 0., 1., 1., 0., 0., 1., 0., 0., 0.,\n",
              "        0., 1., 0., 1., 1., 0., 0., 0., 1., 0., 1., 1., 1., 0., 1., 1., 1.,\n",
              "        0., 0., 0., 0., 1., 1., 0., 0., 0., 1., 1., 1., 1., 1., 0., 0., 1.,\n",
              "        0., 1., 1., 1., 1., 0., 0., 0., 0., 1., 0., 0., 0., 1., 0., 1., 0.,\n",
              "        0., 1., 1., 0., 0., 0., 1., 0., 1., 1., 0., 1., 1., 0., 1., 1., 0.,\n",
              "        1., 0., 0., 1., 0., 1., 0., 0., 0., 1., 0., 0., 1., 1., 0., 1., 0.,\n",
              "        1., 0., 0., 1., 1., 0., 1., 1., 0., 0., 0., 0., 0., 1., 0., 1., 0.,\n",
              "        1., 0., 1., 0., 1., 0., 1., 0., 1., 1., 0., 0., 1., 1., 0., 0., 0.,\n",
              "        0., 1., 0., 1., 0., 0., 0., 1., 1., 0., 1., 0., 0., 1., 1., 1., 0.,\n",
              "        0., 1., 1., 0., 1., 0., 1., 0., 1., 0., 0., 1., 1., 1., 0., 1., 1.,\n",
              "        0., 1., 1., 0., 0., 1., 0., 0., 0., 1., 0., 1., 1., 1., 0., 0., 1.,\n",
              "        1., 1., 0., 0., 0., 0., 0., 0., 1., 1., 1., 1., 0., 1., 1., 1., 1.,\n",
              "        0., 0., 1., 1., 1., 1., 1., 0., 1., 1., 0., 1., 1., 1., 0., 0., 1.,\n",
              "        1., 0., 0., 0., 1., 0., 0., 1., 1., 0., 1., 0., 1., 0., 0., 1., 1.,\n",
              "        0., 1., 1., 0., 1., 0., 0., 0., 1., 1., 1., 1., 0., 0., 0., 0., 0.,\n",
              "        1., 1., 1., 0., 0., 1., 1., 1., 1., 0., 0., 1., 0., 1., 1., 0., 0.,\n",
              "        1., 1., 1., 1., 1., 1., 1., 0., 0., 1., 1., 0., 1., 0., 1., 0., 0.,\n",
              "        1., 0., 1., 0., 1., 0., 1., 0., 1., 1., 0., 1., 1., 1., 1., 1., 0.,\n",
              "        1., 0., 0., 0., 0., 1., 1., 1., 1., 1., 1., 1., 1., 1., 0., 0., 0.,\n",
              "        1., 1., 0., 0., 0., 1., 0., 0., 1., 1., 0., 0., 1., 1., 0., 1., 1.,\n",
              "        0., 0., 1., 0., 1., 1., 0., 1., 0., 0., 1., 1., 1., 0., 1., 0., 1.,\n",
              "        1., 0., 0., 0., 1., 1., 1., 0., 0., 0., 1., 0., 0., 1., 1., 1., 0.,\n",
              "        0., 0., 1., 0., 0., 0., 0., 1., 1., 0., 0., 1., 0., 0., 0., 1., 0.,\n",
              "        0., 0., 1., 0., 1., 1., 1., 0., 0., 0., 0., 1., 1., 1., 0., 1., 1.,\n",
              "        1., 0., 0., 1., 0., 1., 1., 1., 0., 1., 0., 1., 0., 0., 0., 1., 0.,\n",
              "        0., 0.]))"
            ]
          },
          "metadata": {},
          "execution_count": 35
        }
      ]
    },
    {
      "cell_type": "markdown",
      "metadata": {
        "id": "zUNWI9AVSFPE"
      },
      "source": [
        "## Hil Climbing Analysis\n"
      ]
    },
    {
      "cell_type": "code",
      "source": [
        "HillClimbing"
      ],
      "metadata": {
        "id": "CVM5JQojzJah"
      },
      "execution_count": null,
      "outputs": []
    },
    {
      "cell_type": "markdown",
      "metadata": {
        "id": "T4ysdeIpaB9G"
      },
      "source": [
        "# Búsqueda tabú\n",
        "\n",
        "f(P,s)\n",
        "\n",
        "Neighborhood(p,s_star,c,n,seed)"
      ]
    },
    {
      "cell_type": "code",
      "execution_count": null,
      "metadata": {
        "id": "GJlIyK__Le4j"
      },
      "outputs": [],
      "source": [
        "def CleanTheNeighborhood(V,TabuList):\n",
        "\n",
        "  CleanV = np.copy(V)\n",
        "\n",
        "  EraseList = []\n",
        "\n",
        "  for i in range(V.shape[0]):\n",
        "    for j in range(len(TabuList)):\n",
        "      if np.array_equal(V[i,:],TabuList[j]):\n",
        "        EraseList.append(i)\n",
        "        \n",
        "  \n",
        "  for i in range(len(EraseList)):\n",
        "    if CleanV.shape[0] != 0:\n",
        "      EraseList[i] = EraseList[i]-i\n",
        "      CleanV = np.delete(CleanV,EraseList[i],0)\n",
        "    else:\n",
        "      break\n",
        "\n",
        "  return CleanV"
      ]
    },
    {
      "cell_type": "code",
      "execution_count": null,
      "metadata": {
        "id": "Gp6QxLM3PlmB"
      },
      "outputs": [],
      "source": [
        "def TabuSearch(P,p,s,n,c,seed,TIME,l):\n",
        "  start_time=time.time()\n",
        "  now_time=time.time()\n",
        "\n",
        "  TabuList=[]\n",
        "  s_star = np.copy(s)\n",
        "  f_star = f(P,s) \n",
        "\n",
        "  while now_time - start_time < TIME:\n",
        "\n",
        "    V = Neighborhood(p,s_star,n,c,seed)\n",
        "    V = CleanTheNeighborhood(V,TabuList)\n",
        "\n",
        "    if V.shape[0]!=0:\n",
        "\n",
        "      (f_s,s) = LocalSearch(P,V)\n",
        "      TabuList.append(s)\n",
        "      if len(TabuList) > l:\n",
        "        TabuList.pop(0)\n",
        "      if f_s > f_star:\n",
        "        s_star = np.copy(s)\n",
        "        f_star = f_s\n",
        "        \n",
        "      now_time = time.time()\n",
        "\n",
        "    else:\n",
        "      now_time = time.time()\n",
        "  \n",
        "  return (f_star,s_star)"
      ]
    },
    {
      "cell_type": "markdown",
      "metadata": {
        "id": "RtoGpIq0WGZJ"
      },
      "source": [
        "##Tabu Analysis\n"
      ]
    },
    {
      "cell_type": "code",
      "source": [
        "pcolor"
      ],
      "metadata": {
        "colab": {
          "base_uri": "https://localhost:8080/"
        },
        "id": "1D8g4TC_0KHy",
        "outputId": "cb9aa7da-6f88-406e-94e9-10393d9efcc7"
      },
      "execution_count": null,
      "outputs": [
        {
          "output_type": "execute_result",
          "data": {
            "text/plain": [
              "[115, 378]"
            ]
          },
          "metadata": {},
          "execution_count": 15
        }
      ]
    },
    {
      "cell_type": "code",
      "source": [
        "np.random.seed(1234567)\n",
        "s=np.random.randint(0,2,115)"
      ],
      "metadata": {
        "id": "N7JRm8kqztHg"
      },
      "execution_count": null,
      "outputs": []
    },
    {
      "cell_type": "code",
      "source": [
        "TabuSearch(Pcolor,pcolor,s,100,2,1234567,120,40)"
      ],
      "metadata": {
        "id": "8Er7TuQLzyp7"
      },
      "execution_count": null,
      "outputs": []
    },
    {
      "cell_type": "code",
      "source": [
        "TabuSearch(Pcolor,pcolor,s,100,2,1234567,240,40)"
      ],
      "metadata": {
        "colab": {
          "base_uri": "https://localhost:8080/"
        },
        "id": "ciuKo2RU0P-P",
        "outputId": "53c3ae53-e584-4d82-f7a8-9a1a0613e9c6"
      },
      "execution_count": null,
      "outputs": [
        {
          "output_type": "execute_result",
          "data": {
            "text/plain": [
              "(366.0,\n",
              " array([0., 1., 0., 0., 0., 0., 0., 0., 0., 1., 1., 0., 1., 1., 0., 0., 0.,\n",
              "        0., 0., 0., 1., 0., 0., 1., 0., 0., 0., 1., 1., 1., 0., 0., 1., 0.,\n",
              "        1., 0., 0., 0., 0., 0., 0., 1., 0., 0., 0., 0., 0., 0., 0., 1., 0.,\n",
              "        0., 0., 1., 0., 1., 0., 0., 0., 0., 0., 0., 1., 1., 1., 0., 0., 0.,\n",
              "        0., 0., 0., 0., 1., 0., 0., 0., 0., 0., 0., 0., 0., 0., 1., 1., 0.,\n",
              "        0., 1., 0., 0., 0., 1., 0., 0., 1., 0., 0., 0., 0., 1., 0., 1., 1.,\n",
              "        0., 0., 0., 0., 0., 1., 0., 1., 0., 1., 0., 0., 0.]))"
            ]
          },
          "metadata": {},
          "execution_count": 21
        }
      ]
    },
    {
      "cell_type": "code",
      "source": [
        "f(Pcolor,s)"
      ],
      "metadata": {
        "colab": {
          "base_uri": "https://localhost:8080/"
        },
        "id": "fkwQNndP0Vud",
        "outputId": "96b3ebf7-d49b-41c0-9d87-16af8ba99767"
      },
      "execution_count": null,
      "outputs": [
        {
          "output_type": "execute_result",
          "data": {
            "text/plain": [
              "315.0"
            ]
          },
          "metadata": {},
          "execution_count": 27
        }
      ]
    },
    {
      "cell_type": "code",
      "source": [
        "s=np.random.randint(0,2,225)"
      ],
      "metadata": {
        "id": "0tXCOmuf0dt_"
      },
      "execution_count": null,
      "outputs": []
    },
    {
      "cell_type": "code",
      "source": [
        "f(PQueens,s)"
      ],
      "metadata": {
        "colab": {
          "base_uri": "https://localhost:8080/"
        },
        "id": "bRl5JJwC0vcU",
        "outputId": "935b25c0-4e72-45fc-80c2-ef44c0fe09ca"
      },
      "execution_count": null,
      "outputs": [
        {
          "output_type": "execute_result",
          "data": {
            "text/plain": [
              "4043.0"
            ]
          },
          "metadata": {},
          "execution_count": 24
        }
      ]
    },
    {
      "cell_type": "code",
      "source": [
        "TabuSearch(PQueens,pQueens,s,100,2,1234567,120,6)"
      ],
      "metadata": {
        "colab": {
          "base_uri": "https://localhost:8080/"
        },
        "id": "Frf3QSMp0zOH",
        "outputId": "9bf9dbb5-1f2c-4856-a03d-cf286cb0085b"
      },
      "execution_count": null,
      "outputs": [
        {
          "output_type": "execute_result",
          "data": {
            "text/plain": [
              "(4400.0,\n",
              " array([0., 0., 1., 1., 0., 0., 0., 0., 0., 0., 0., 1., 1., 0., 0., 1., 0.,\n",
              "        0., 0., 1., 0., 1., 1., 0., 0., 0., 1., 0., 1., 0., 0., 1., 1., 1.,\n",
              "        1., 0., 1., 0., 0., 0., 0., 0., 0., 0., 1., 0., 0., 0., 1., 1., 0.,\n",
              "        1., 1., 0., 1., 1., 0., 1., 0., 0., 1., 0., 0., 0., 1., 0., 0., 1.,\n",
              "        0., 0., 0., 0., 0., 1., 1., 1., 1., 1., 0., 0., 0., 1., 1., 0., 0.,\n",
              "        0., 1., 0., 1., 0., 1., 1., 0., 0., 0., 1., 0., 0., 0., 1., 0., 0.,\n",
              "        0., 0., 0., 0., 1., 0., 0., 0., 0., 0., 0., 0., 0., 1., 1., 1., 1.,\n",
              "        1., 0., 1., 1., 0., 0., 0., 1., 0., 0., 1., 0., 0., 1., 1., 1., 0.,\n",
              "        0., 1., 0., 0., 1., 1., 0., 1., 0., 0., 0., 0., 1., 1., 0., 1., 0.,\n",
              "        0., 0., 1., 0., 1., 0., 0., 1., 0., 1., 0., 0., 1., 0., 1., 0., 0.,\n",
              "        1., 0., 1., 0., 0., 0., 0., 0., 1., 1., 0., 1., 1., 0., 1., 0., 1.,\n",
              "        0., 1., 1., 1., 0., 1., 0., 1., 0., 0., 1., 1., 1., 0., 1., 0., 1.,\n",
              "        0., 1., 1., 0., 0., 0., 0., 0., 1., 0., 0., 0., 0., 0., 0., 1., 1.,\n",
              "        1., 0., 1., 1.]))"
            ]
          },
          "metadata": {},
          "execution_count": 25
        }
      ]
    },
    {
      "cell_type": "code",
      "source": [
        "TabuSearch(PQueens,pQueens,s,100,2,1234567,240,6)"
      ],
      "metadata": {
        "colab": {
          "base_uri": "https://localhost:8080/"
        },
        "id": "8tHVPN051ez8",
        "outputId": "dee56a30-f8bf-4ef0-91bb-3993b82851e7"
      },
      "execution_count": null,
      "outputs": [
        {
          "output_type": "execute_result",
          "data": {
            "text/plain": [
              "(4572.0,\n",
              " array([0., 0., 1., 1., 0., 0., 0., 0., 0., 0., 0., 1., 1., 0., 0., 1., 0.,\n",
              "        0., 0., 0., 0., 1., 1., 0., 0., 0., 1., 0., 1., 0., 0., 1., 1., 0.,\n",
              "        1., 0., 0., 0., 0., 0., 0., 0., 0., 0., 1., 0., 0., 0., 1., 1., 0.,\n",
              "        1., 1., 0., 0., 1., 0., 1., 0., 0., 1., 0., 0., 0., 1., 0., 0., 1.,\n",
              "        0., 0., 0., 0., 0., 1., 0., 1., 0., 1., 1., 0., 0., 1., 1., 0., 0.,\n",
              "        0., 1., 0., 1., 0., 1., 1., 0., 0., 0., 1., 0., 0., 0., 1., 0., 0.,\n",
              "        0., 0., 0., 0., 1., 0., 0., 0., 0., 0., 0., 0., 0., 1., 1., 1., 1.,\n",
              "        1., 0., 1., 1., 0., 0., 0., 0., 0., 0., 1., 0., 0., 0., 1., 1., 0.,\n",
              "        0., 1., 0., 0., 1., 0., 0., 1., 0., 0., 0., 0., 1., 1., 1., 0., 0.,\n",
              "        0., 0., 1., 0., 1., 0., 0., 1., 0., 1., 0., 0., 1., 0., 1., 0., 0.,\n",
              "        1., 0., 1., 0., 0., 0., 0., 0., 1., 1., 0., 1., 1., 0., 1., 0., 1.,\n",
              "        0., 1., 1., 1., 0., 1., 0., 1., 0., 0., 1., 1., 1., 0., 1., 0., 1.,\n",
              "        0., 1., 1., 0., 0., 0., 0., 0., 1., 0., 0., 0., 0., 0., 0., 0., 1.,\n",
              "        1., 0., 0., 1.]))"
            ]
          },
          "metadata": {},
          "execution_count": 26
        }
      ]
    },
    {
      "cell_type": "markdown",
      "metadata": {
        "id": "nL1oyyxJaF7F"
      },
      "source": [
        "# Recocido simulado\n",
        "\n",
        "f(P,s)\n",
        "\n",
        "Neighborhood(p,s_star,n,c,seed)"
      ]
    },
    {
      "cell_type": "code",
      "execution_count": null,
      "metadata": {
        "id": "4bwjEjT8Vj9_"
      },
      "outputs": [],
      "source": [
        "def SimulatedAnnealing(P,p,s,t,alpha,n,c,seed,TIME):\n",
        "\n",
        "  s_star = np.copy(s)\n",
        "  f_star = f(P,s_star)\n",
        "  \n",
        "  start_time = time.time()\n",
        "  now_time = time.time()\n",
        "\n",
        "  while now_time - start_time < TIME:\n",
        "    V = Neighborhood(p,s_star,n,c,seed)\n",
        "    (f_s,s) = LocalSearch(P,V)\n",
        "    if f_s >= f_star:\n",
        "      f_star = f_s\n",
        "      s_star = np.copy(s)\n",
        "\n",
        "    elif np.exp((f_star - f_star)/t) > random.uniform():\n",
        "      f_star = f_s\n",
        "      s_star = np.copy(s)\n",
        "\n",
        "\n",
        "    t = t* alpha\n",
        "    now_time=time.time()\n",
        "  \n",
        "\n",
        "  return (f_star,s_star)"
      ]
    },
    {
      "cell_type": "markdown",
      "metadata": {
        "id": "qWEnPj7dcwWF"
      },
      "source": [
        "##Simulated Anneling Analysis"
      ]
    },
    {
      "cell_type": "code",
      "source": [
        "np.random.seed(1234567)\n",
        "s=np.random.randint(0,2,225)"
      ],
      "metadata": {
        "id": "Wk-7k9AD-Sfb"
      },
      "execution_count": null,
      "outputs": []
    },
    {
      "cell_type": "code",
      "source": [
        "s"
      ],
      "metadata": {
        "colab": {
          "base_uri": "https://localhost:8080/"
        },
        "id": "dZ9V6PN1X-aK",
        "outputId": "bb96accf-435d-4b88-b90c-ddd0e53f95b9"
      },
      "execution_count": null,
      "outputs": [
        {
          "output_type": "execute_result",
          "data": {
            "text/plain": [
              "array([1, 1, 0, 0, 1, 0, 0, 1, 0, 1, 0, 0, 1, 1, 1, 0, 0, 1, 1, 0, 1, 1,\n",
              "       0, 0, 1, 0, 1, 0, 1, 1, 0, 1, 0, 0, 0, 0, 0, 0, 0, 0, 0, 0, 0, 0,\n",
              "       1, 0, 1, 0, 0, 0, 1, 0, 1, 1, 0, 0, 0, 0, 1, 1, 0, 0, 0, 1, 1, 0,\n",
              "       1, 0, 0, 0, 1, 1, 1, 1, 1, 1, 0, 0, 1, 1, 1, 1, 1, 1, 0, 1, 1, 0,\n",
              "       1, 0, 0, 0, 1, 0, 1, 0, 1, 0, 1, 1, 1, 1, 1, 0, 1, 0, 1, 1, 0, 1,\n",
              "       0, 1, 0, 1, 0, 1, 0, 1, 1, 0, 1, 1, 0, 0, 1, 0, 1, 0, 0, 0, 0, 1,\n",
              "       0, 0, 1, 0, 1, 1, 0, 1, 0, 0, 0, 0, 0, 0, 1, 0, 0, 0, 0, 1, 0, 1,\n",
              "       0, 1, 1, 0, 0, 1, 0, 1, 0, 1, 1, 1, 1, 0, 0, 1, 0, 0, 0, 1, 0, 0,\n",
              "       0, 0, 0, 1, 0, 1, 1, 0, 0, 1, 1, 0, 0, 1, 1, 1, 1, 1, 0, 0, 1, 1,\n",
              "       0, 1, 0, 0, 1, 1, 1, 1, 0, 1, 0, 1, 0, 1, 1, 1, 0, 0, 1, 0, 0, 1,\n",
              "       1, 0, 1, 0, 0])"
            ]
          },
          "metadata": {},
          "execution_count": 34
        }
      ]
    },
    {
      "cell_type": "code",
      "source": [
        "f(PQueens,s)"
      ],
      "metadata": {
        "colab": {
          "base_uri": "https://localhost:8080/"
        },
        "id": "kmw08P8cX7K_",
        "outputId": "b5e1ab22-0575-4977-8d20-f98227020b2b"
      },
      "execution_count": null,
      "outputs": [
        {
          "output_type": "execute_result",
          "data": {
            "text/plain": [
              "4050.0"
            ]
          },
          "metadata": {},
          "execution_count": 35
        }
      ]
    },
    {
      "cell_type": "code",
      "source": [
        "SimulatedAnnealing(PQueens,pQueens,s,500,0.15,100,2,1234567,60)"
      ],
      "metadata": {
        "colab": {
          "base_uri": "https://localhost:8080/"
        },
        "id": "Jnwpok5UXXka",
        "outputId": "860746f1-278e-4387-e9f0-3fe8b94038c9"
      },
      "execution_count": null,
      "outputs": [
        {
          "output_type": "execute_result",
          "data": {
            "text/plain": [
              "(4192.0,\n",
              " array([1., 1., 0., 0., 1., 0., 0., 1., 0., 1., 0., 0., 1., 1., 1., 0., 0.,\n",
              "        1., 1., 0., 1., 1., 0., 0., 1., 0., 1., 0., 1., 1., 0., 1., 0., 0.,\n",
              "        0., 0., 0., 0., 0., 0., 0., 0., 0., 0., 1., 0., 1., 0., 0., 0., 1.,\n",
              "        0., 1., 1., 0., 0., 0., 0., 1., 1., 0., 0., 0., 1., 1., 0., 0., 0.,\n",
              "        0., 0., 1., 1., 1., 1., 1., 1., 0., 0., 1., 1., 1., 1., 1., 1., 0.,\n",
              "        0., 1., 0., 1., 0., 0., 0., 1., 0., 1., 0., 1., 0., 1., 1., 1., 1.,\n",
              "        1., 0., 0., 0., 1., 1., 0., 1., 0., 1., 0., 1., 0., 1., 0., 1., 1.,\n",
              "        0., 1., 1., 0., 0., 1., 0., 1., 0., 0., 0., 0., 1., 0., 0., 0., 0.,\n",
              "        1., 1., 0., 1., 0., 0., 0., 0., 0., 0., 1., 0., 0., 0., 0., 1., 0.,\n",
              "        1., 0., 1., 1., 0., 0., 1., 0., 0., 0., 1., 1., 1., 1., 0., 0., 1.,\n",
              "        0., 0., 0., 1., 0., 0., 0., 0., 0., 1., 0., 1., 1., 0., 0., 1., 1.,\n",
              "        0., 0., 1., 1., 1., 1., 1., 0., 0., 0., 1., 0., 1., 0., 0., 1., 1.,\n",
              "        1., 1., 0., 1., 0., 1., 0., 1., 1., 1., 0., 0., 1., 0., 0., 1., 1.,\n",
              "        0., 1., 0., 0.]))"
            ]
          },
          "metadata": {},
          "execution_count": 33
        }
      ]
    },
    {
      "cell_type": "code",
      "source": [
        "SimulatedAnnealing(PQueens,pQueens,s,500,0.15,100,2,1234567,120)"
      ],
      "metadata": {
        "colab": {
          "base_uri": "https://localhost:8080/"
        },
        "id": "1222z2ikX_uu",
        "outputId": "f2c41f4d-7994-494b-f448-6d1556d7a9e5"
      },
      "execution_count": null,
      "outputs": [
        {
          "output_type": "execute_result",
          "data": {
            "text/plain": [
              "(4317.0,\n",
              " array([1., 1., 0., 0., 1., 0., 0., 1., 0., 1., 0., 0., 1., 1., 1., 0., 0.,\n",
              "        1., 1., 0., 1., 1., 0., 0., 1., 0., 1., 0., 1., 1., 0., 1., 0., 0.,\n",
              "        0., 0., 0., 0., 0., 0., 0., 0., 0., 0., 1., 0., 1., 0., 0., 0., 1.,\n",
              "        0., 1., 1., 0., 0., 0., 0., 1., 1., 0., 0., 0., 1., 1., 0., 0., 0.,\n",
              "        0., 0., 1., 0., 1., 1., 1., 1., 0., 0., 1., 1., 1., 1., 1., 1., 0.,\n",
              "        0., 1., 0., 1., 0., 0., 0., 1., 0., 1., 0., 1., 0., 1., 1., 0., 1.,\n",
              "        1., 0., 0., 0., 1., 1., 0., 1., 0., 1., 0., 1., 0., 1., 0., 1., 1.,\n",
              "        0., 1., 1., 0., 0., 1., 0., 0., 0., 0., 0., 0., 1., 0., 0., 0., 0.,\n",
              "        1., 1., 0., 1., 0., 0., 0., 0., 0., 0., 1., 0., 0., 0., 0., 1., 0.,\n",
              "        1., 0., 1., 1., 0., 0., 0., 0., 0., 0., 1., 1., 1., 1., 0., 0., 1.,\n",
              "        0., 0., 0., 1., 0., 0., 0., 0., 0., 1., 0., 1., 1., 0., 0., 0., 1.,\n",
              "        0., 0., 1., 1., 1., 1., 1., 0., 0., 0., 1., 0., 1., 0., 0., 1., 1.,\n",
              "        1., 1., 0., 1., 0., 1., 0., 1., 1., 1., 0., 0., 1., 0., 0., 0., 1.,\n",
              "        0., 1., 0., 0.]))"
            ]
          },
          "metadata": {},
          "execution_count": 36
        }
      ]
    },
    {
      "cell_type": "code",
      "source": [
        "np.random.seed(1234567)\n",
        "s=np.random.randint(0,2,115)"
      ],
      "metadata": {
        "id": "YGCrNQjpYEH4"
      },
      "execution_count": null,
      "outputs": []
    },
    {
      "cell_type": "code",
      "source": [
        "s"
      ],
      "metadata": {
        "colab": {
          "base_uri": "https://localhost:8080/"
        },
        "id": "RvP0TTxwYD6y",
        "outputId": "353194dd-b91f-4a74-fd69-5798d101d660"
      },
      "execution_count": null,
      "outputs": [
        {
          "output_type": "execute_result",
          "data": {
            "text/plain": [
              "array([1, 1, 0, 0, 1, 0, 0, 1, 0, 1, 0, 0, 1, 1, 1, 0, 0, 1, 1, 0, 1, 1,\n",
              "       0, 0, 1, 0, 1, 0, 1, 1, 0, 1, 0, 0, 0, 0, 0, 0, 0, 0, 0, 0, 0, 0,\n",
              "       1, 0, 1, 0, 0, 0, 1, 0, 1, 1, 0, 0, 0, 0, 1, 1, 0, 0, 0, 1, 1, 0,\n",
              "       1, 0, 0, 0, 1, 1, 1, 1, 1, 1, 0, 0, 1, 1, 1, 1, 1, 1, 0, 1, 1, 0,\n",
              "       1, 0, 0, 0, 1, 0, 1, 0, 1, 0, 1, 1, 1, 1, 1, 0, 1, 0, 1, 1, 0, 1,\n",
              "       0, 1, 0, 1, 0])"
            ]
          },
          "metadata": {},
          "execution_count": 42
        }
      ]
    },
    {
      "cell_type": "code",
      "source": [
        "f(Pcolor,s)"
      ],
      "metadata": {
        "colab": {
          "base_uri": "https://localhost:8080/"
        },
        "id": "RAGsUogrYD1j",
        "outputId": "155f8c7a-d2c6-4cc1-c767-b33c2374dea2"
      },
      "execution_count": null,
      "outputs": [
        {
          "output_type": "execute_result",
          "data": {
            "text/plain": [
              "288.0"
            ]
          },
          "metadata": {},
          "execution_count": 43
        }
      ]
    },
    {
      "cell_type": "code",
      "source": [
        "SimulatedAnnealing(Pcolor,pcolor,s,1000,0.2,200,2,1234567,60)"
      ],
      "metadata": {
        "colab": {
          "base_uri": "https://localhost:8080/"
        },
        "id": "o7kgynAGYIFv",
        "outputId": "aadeea6c-7c10-4948-ae9f-053838274ce4"
      },
      "execution_count": null,
      "outputs": [
        {
          "output_type": "execute_result",
          "data": {
            "text/plain": [
              "(372.0,\n",
              " array([0., 0., 0., 0., 1., 0., 0., 0., 0., 1., 0., 1., 0., 0., 0., 1., 0.,\n",
              "        1., 0., 0., 1., 1., 0., 0., 0., 0., 0., 1., 1., 1., 0., 0., 0., 0.,\n",
              "        0., 0., 0., 0., 1., 0., 0., 0., 0., 0., 0., 1., 0., 0., 0., 0., 0.,\n",
              "        0., 1., 1., 0., 0., 0., 0., 0., 0., 1., 0., 1., 0., 1., 0., 0., 0.,\n",
              "        0., 0., 1., 0., 1., 0., 0., 0., 0., 1., 0., 0., 0., 1., 1., 1., 0.,\n",
              "        0., 1., 0., 0., 0., 0., 0., 0., 0., 0., 0., 0., 0., 1., 0., 0., 0.,\n",
              "        0., 0., 1., 0., 1., 1., 1., 0., 0., 1., 0., 0., 0.]))"
            ]
          },
          "metadata": {},
          "execution_count": 44
        }
      ]
    },
    {
      "cell_type": "code",
      "source": [
        "SimulatedAnnealing(Pcolor,pcolor,s,1000,0.2,200,2,1234567,120)"
      ],
      "metadata": {
        "colab": {
          "base_uri": "https://localhost:8080/"
        },
        "id": "7twZ5Qy4YJXZ",
        "outputId": "7a9ed12a-cbf6-4a1d-9f34-5bf3ef233ca1"
      },
      "execution_count": null,
      "outputs": [
        {
          "output_type": "execute_result",
          "data": {
            "text/plain": [
              "(372.0,\n",
              " array([0., 0., 0., 0., 1., 0., 0., 0., 0., 1., 0., 1., 0., 0., 0., 1., 0.,\n",
              "        1., 0., 0., 1., 1., 0., 0., 0., 0., 0., 1., 1., 1., 0., 0., 0., 0.,\n",
              "        0., 0., 0., 0., 1., 0., 0., 0., 0., 0., 0., 1., 0., 0., 0., 0., 0.,\n",
              "        0., 1., 1., 0., 0., 0., 0., 0., 0., 1., 0., 1., 0., 1., 0., 0., 0.,\n",
              "        0., 0., 1., 0., 1., 0., 0., 0., 0., 1., 0., 0., 0., 1., 1., 1., 0.,\n",
              "        0., 1., 0., 0., 0., 0., 0., 0., 0., 0., 0., 0., 0., 1., 0., 0., 0.,\n",
              "        0., 0., 1., 0., 1., 1., 1., 0., 0., 1., 0., 0., 0.]))"
            ]
          },
          "metadata": {},
          "execution_count": 45
        }
      ]
    },
    {
      "cell_type": "markdown",
      "metadata": {
        "id": "DfKTzUuYaLRN"
      },
      "source": [
        "# GRASP\n",
        "f(P,s)\n",
        "\n",
        "greedy_f(P,s)\n",
        "\n",
        "S es un conjunto de números enteros \n",
        "\n",
        "Candidates(p,S)\n",
        "\n",
        "\n",
        "\n",
        "Neighborhood(p,s_star,c,n,seed)\n",
        "\n",
        "SolutionFormat(S)"
      ]
    },
    {
      "cell_type": "code",
      "execution_count": null,
      "metadata": {
        "id": "ebunCvAHFXKr"
      },
      "outputs": [],
      "source": [
        "def greedy_f(P,S):\n",
        "  (n,m)=P.shape\n",
        "  v=np.zeros(n)\n",
        "  Q=np.copy(P)\n",
        "  for i in range(n):\n",
        "    for j in range(m):\n",
        "      if Q[i,j] in S:\n",
        "        v[i]=1\n",
        "        break\n",
        "  values = sum(v)\n",
        "  return values\n",
        "\n"
      ]
    },
    {
      "cell_type": "code",
      "execution_count": null,
      "metadata": {
        "id": "80NeOg9oF8rh"
      },
      "outputs": [],
      "source": [
        "def Candidates(p,S):\n",
        "  id_plus = lambda x : x\n",
        "  id_minus = lambda x : -x\n",
        "\n",
        "  Range = list(range(1,p[0]+1))\n",
        "\n",
        "  for i in range(len(S)):\n",
        "    Range.remove(np.abs(S[i]))\n",
        "\n",
        "  L = [i(x) for x in Range for i in (id_plus, id_minus)]\n",
        "  \n",
        "  return L"
      ]
    },
    {
      "cell_type": "code",
      "execution_count": null,
      "metadata": {
        "id": "3n4NlWV6Gg-3"
      },
      "outputs": [],
      "source": [
        "def SolutionFormat(p,S):\n",
        "\n",
        "  s = np.array([1 if i+1 in S else 0 for i in range(p[0])])\n",
        "  \n",
        "  return s"
      ]
    },
    {
      "cell_type": "markdown",
      "metadata": {
        "id": "NZAKWcfxGidC"
      },
      "source": [
        "\n",
        "\n",
        "---\n",
        "\n"
      ]
    },
    {
      "cell_type": "code",
      "execution_count": null,
      "metadata": {
        "id": "463PhwzgaN5L"
      },
      "outputs": [],
      "source": [
        "def GreedyConstruction(P,p):\n",
        "  S = []\n",
        "  L = Candidates(p,S)\n",
        "  GreedyValue = [greedy_f(P,[L[i]]) for i in range(len(L))]\n",
        "\n",
        "  while len(L) != 0:\n",
        "    Choosen = L[np.argmax(GreedyValue)]\n",
        "    S.append(Choosen)\n",
        "    L = Candidates(p,S)\n",
        "    GreedyValue = [greedy_f(P,[L[i]]) for i in range(len(L))]\n",
        "\n",
        "  s_star = SolutionFormat(p,S)\n",
        "\n",
        "  return s_star"
      ]
    },
    {
      "cell_type": "code",
      "execution_count": null,
      "metadata": {
        "id": "gLugEhxLopty"
      },
      "outputs": [],
      "source": [
        "def RCL(P,L,S,alpha):\n",
        "\n",
        "  S_copy = np.copy(S)\n",
        "  GreedyValue = [greedy_f(P,[L[i]]) for i in range(len(L))]\n",
        "\n",
        "  Max = np.max(GreedyValue)\n",
        "  Min = np.min(GreedyValue)\n",
        "  value = Max - alpha * (Max - Min)\n",
        "\n",
        "  CandidatesRestrictedList = []\n",
        "  for i in range(len(L)):\n",
        "    if GreedyValue[i] > value:\n",
        "      CandidatesRestrictedList.append(L[i])\n",
        "\n",
        "  return CandidatesRestrictedList"
      ]
    },
    {
      "cell_type": "code",
      "execution_count": null,
      "metadata": {
        "id": "dIdq4dEYupjt"
      },
      "outputs": [],
      "source": [
        "def GreedyRandomizedConstruction(P,p,alpha):\n",
        "  S = []\n",
        "  L = Candidates(p,S)\n",
        "  GreedyValue = [greedy_f(P,[L[i]]) for i in range(len(L))]\n",
        "\n",
        "  while len(L) != 0:\n",
        "    \n",
        "    RCL_list = RCL(P,L,S,alpha)\n",
        "\n",
        "    if len(RCL_list) != 0:\n",
        "      index = random.randint(0,len(RCL_list))\n",
        "      Choosen = RCL_list[index]\n",
        "      S.append(Choosen)\n",
        "      L = Candidates(p,S)\n",
        "\n",
        "    else:\n",
        "      GreedyValue = [greedy_f(P,[L[i]]) for i in range(len(L))]\n",
        "      Choosen = L[np.argmax(GreedyValue)]\n",
        "      S.append(Choosen)\n",
        "      L = Candidates(p,S)\n",
        "\n",
        "  s_star = SolutionFormat(p,S)\n",
        "\n",
        "  return s_star"
      ]
    },
    {
      "cell_type": "code",
      "execution_count": null,
      "metadata": {
        "id": "9rMyb9CL0szW"
      },
      "outputs": [],
      "source": [
        "def GRASP(P,p,alpha,seed,n,c,TIME):\n",
        "  start_time = time.time()\n",
        "  now_time = time.time()\n",
        "\n",
        "  f_star = 0\n",
        "\n",
        "  random.seed(seed)\n",
        "\n",
        "  while now_time - start_time < TIME:\n",
        "\n",
        "    s0 = GreedyRandomizedConstruction(P,p,alpha)\n",
        "\n",
        "    V = Neighborhood(p,s0,n,c,seed)\n",
        "    (f_s1,s1) = LocalSearch(P,V)\n",
        "\n",
        "    if f_s1 > f_star:\n",
        "      s_star = np.copy(s1)\n",
        "      f_star = f_s1\n",
        "\n",
        "    now_time = time.time()\n",
        "  \n",
        "  return (f_star,s_star)"
      ]
    },
    {
      "cell_type": "markdown",
      "metadata": {
        "id": "lhBbpE0uEFjv"
      },
      "source": [
        "## GRASP Analysis"
      ]
    },
    {
      "cell_type": "code",
      "source": [
        "np.random.seed(1234567)\n",
        "s=np.random.randint(0,2,225)\n",
        "s"
      ],
      "metadata": {
        "colab": {
          "base_uri": "https://localhost:8080/"
        },
        "id": "3SPBGrJo0Klc",
        "outputId": "37eb3976-75f4-4755-ece2-14c122d403a7"
      },
      "execution_count": null,
      "outputs": [
        {
          "output_type": "execute_result",
          "data": {
            "text/plain": [
              "array([1, 1, 0, 0, 1, 0, 0, 1, 0, 1, 0, 0, 1, 1, 1, 0, 0, 1, 1, 0, 1, 1,\n",
              "       0, 0, 1, 0, 1, 0, 1, 1, 0, 1, 0, 0, 0, 0, 0, 0, 0, 0, 0, 0, 0, 0,\n",
              "       1, 0, 1, 0, 0, 0, 1, 0, 1, 1, 0, 0, 0, 0, 1, 1, 0, 0, 0, 1, 1, 0,\n",
              "       1, 0, 0, 0, 1, 1, 1, 1, 1, 1, 0, 0, 1, 1, 1, 1, 1, 1, 0, 1, 1, 0,\n",
              "       1, 0, 0, 0, 1, 0, 1, 0, 1, 0, 1, 1, 1, 1, 1, 0, 1, 0, 1, 1, 0, 1,\n",
              "       0, 1, 0, 1, 0, 1, 0, 1, 1, 0, 1, 1, 0, 0, 1, 0, 1, 0, 0, 0, 0, 1,\n",
              "       0, 0, 1, 0, 1, 1, 0, 1, 0, 0, 0, 0, 0, 0, 1, 0, 0, 0, 0, 1, 0, 1,\n",
              "       0, 1, 1, 0, 0, 1, 0, 1, 0, 1, 1, 1, 1, 0, 0, 1, 0, 0, 0, 1, 0, 0,\n",
              "       0, 0, 0, 1, 0, 1, 1, 0, 0, 1, 1, 0, 0, 1, 1, 1, 1, 1, 0, 0, 1, 1,\n",
              "       0, 1, 0, 0, 1, 1, 1, 1, 0, 1, 0, 1, 0, 1, 1, 1, 0, 0, 1, 0, 0, 1,\n",
              "       1, 0, 1, 0, 0])"
            ]
          },
          "metadata": {},
          "execution_count": 15
        }
      ]
    },
    {
      "cell_type": "code",
      "source": [
        "f(PQueens,s)"
      ],
      "metadata": {
        "colab": {
          "base_uri": "https://localhost:8080/"
        },
        "id": "k24yfu_20SZC",
        "outputId": "4df66163-7035-4eb0-aadf-fd451db01cf8"
      },
      "execution_count": null,
      "outputs": [
        {
          "output_type": "execute_result",
          "data": {
            "text/plain": [
              "4050.0"
            ]
          },
          "metadata": {},
          "execution_count": 16
        }
      ]
    },
    {
      "cell_type": "code",
      "source": [
        "GRASP(PQueens,pQueens,0.2,1234567,100,2,60)"
      ],
      "metadata": {
        "colab": {
          "base_uri": "https://localhost:8080/"
        },
        "id": "guKHU5ve0Tkg",
        "outputId": "67f0d40c-9525-465b-967a-5cb1630c1a81"
      },
      "execution_count": null,
      "outputs": [
        {
          "output_type": "execute_result",
          "data": {
            "text/plain": [
              "(5182.0,\n",
              " array([0., 0., 0., 0., 0., 0., 0., 0., 0., 0., 0., 0., 0., 0., 0., 0., 0.,\n",
              "        0., 0., 0., 0., 0., 0., 0., 0., 0., 0., 0., 0., 0., 0., 0., 0., 0.,\n",
              "        0., 0., 0., 0., 0., 0., 0., 0., 0., 0., 0., 0., 0., 0., 0., 0., 0.,\n",
              "        0., 0., 0., 0., 0., 0., 0., 0., 0., 0., 0., 0., 0., 0., 0., 0., 0.,\n",
              "        0., 0., 0., 0., 0., 0., 0., 0., 0., 0., 0., 0., 0., 0., 0., 0., 0.,\n",
              "        0., 0., 0., 0., 0., 0., 0., 0., 0., 0., 0., 0., 0., 0., 0., 0., 0.,\n",
              "        0., 0., 0., 0., 0., 0., 0., 0., 0., 0., 0., 0., 0., 0., 0., 0., 0.,\n",
              "        0., 0., 0., 0., 0., 0., 0., 0., 1., 0., 0., 0., 0., 0., 0., 0., 0.,\n",
              "        0., 0., 0., 0., 0., 0., 0., 0., 0., 0., 0., 1., 0., 0., 0., 0., 0.,\n",
              "        0., 0., 0., 0., 0., 0., 0., 0., 0., 0., 0., 0., 0., 0., 0., 0., 0.,\n",
              "        0., 0., 0., 0., 0., 0., 0., 0., 0., 0., 0., 0., 0., 0., 0., 0., 0.,\n",
              "        0., 0., 0., 0., 0., 0., 0., 0., 0., 0., 0., 0., 0., 0., 0., 0., 0.,\n",
              "        0., 0., 0., 0., 0., 0., 0., 0., 0., 0., 0., 0., 0., 0., 0., 0., 0.,\n",
              "        0., 0., 0., 0.]))"
            ]
          },
          "metadata": {},
          "execution_count": 19
        }
      ]
    },
    {
      "cell_type": "code",
      "source": [
        "GRASP(PQueens,pQueens,0.2,1234567,100,2,120)"
      ],
      "metadata": {
        "id": "5--j180ZSqK-"
      },
      "execution_count": null,
      "outputs": []
    },
    {
      "cell_type": "code",
      "source": [
        "np.random.seed(1234567)\n",
        "s=np.random.randint(0,2,115)\n",
        "s"
      ],
      "metadata": {
        "colab": {
          "base_uri": "https://localhost:8080/"
        },
        "id": "XhVLRhaLStfU",
        "outputId": "b6847389-53e4-40e1-9013-ac92175247a9"
      },
      "execution_count": null,
      "outputs": [
        {
          "output_type": "execute_result",
          "data": {
            "text/plain": [
              "array([1, 1, 0, 0, 1, 0, 0, 1, 0, 1, 0, 0, 1, 1, 1, 0, 0, 1, 1, 0, 1, 1,\n",
              "       0, 0, 1, 0, 1, 0, 1, 1, 0, 1, 0, 0, 0, 0, 0, 0, 0, 0, 0, 0, 0, 0,\n",
              "       1, 0, 1, 0, 0, 0, 1, 0, 1, 1, 0, 0, 0, 0, 1, 1, 0, 0, 0, 1, 1, 0,\n",
              "       1, 0, 0, 0, 1, 1, 1, 1, 1, 1, 0, 0, 1, 1, 1, 1, 1, 1, 0, 1, 1, 0,\n",
              "       1, 0, 0, 0, 1, 0, 1, 0, 1, 0, 1, 1, 1, 1, 1, 0, 1, 0, 1, 1, 0, 1,\n",
              "       0, 1, 0, 1, 0])"
            ]
          },
          "metadata": {},
          "execution_count": 20
        }
      ]
    },
    {
      "cell_type": "code",
      "source": [
        "f(Pcolor,s)"
      ],
      "metadata": {
        "colab": {
          "base_uri": "https://localhost:8080/"
        },
        "id": "HIEVnOhNSuzB",
        "outputId": "416eed35-b65e-4872-c969-48c0ffe44b9d"
      },
      "execution_count": null,
      "outputs": [
        {
          "output_type": "execute_result",
          "data": {
            "text/plain": [
              "288.0"
            ]
          },
          "metadata": {},
          "execution_count": 22
        }
      ]
    },
    {
      "cell_type": "code",
      "source": [
        "GRASP(Pcolor,pcolor,0.2,1234567,100,2,60)"
      ],
      "metadata": {
        "colab": {
          "base_uri": "https://localhost:8080/"
        },
        "id": "4swaJ78nSykM",
        "outputId": "4037fb41-d4e0-45b5-d4a4-9d3523a63d0c"
      },
      "execution_count": null,
      "outputs": [
        {
          "output_type": "execute_result",
          "data": {
            "text/plain": [
              "(357.0,\n",
              " array([0., 0., 0., 0., 0., 0., 0., 0., 0., 0., 0., 0., 0., 0., 0., 0., 0.,\n",
              "        0., 0., 1., 0., 0., 0., 0., 0., 0., 0., 0., 0., 0., 0., 0., 0., 0.,\n",
              "        0., 0., 0., 0., 0., 0., 0., 0., 0., 0., 0., 0., 0., 0., 0., 0., 0.,\n",
              "        0., 0., 0., 0., 0., 0., 0., 0., 0., 0., 0., 0., 0., 0., 0., 0., 0.,\n",
              "        0., 0., 1., 0., 0., 0., 0., 0., 0., 0., 0., 0., 0., 0., 0., 0., 0.,\n",
              "        0., 0., 0., 0., 0., 0., 0., 0., 0., 0., 0., 0., 0., 0., 0., 0., 0.,\n",
              "        0., 0., 0., 0., 0., 0., 0., 0., 0., 0., 0., 0., 0.]))"
            ]
          },
          "metadata": {},
          "execution_count": 23
        }
      ]
    },
    {
      "cell_type": "code",
      "source": [
        "GRASP(Pcolor,pcolor,0.2,1234567,100,2,120)"
      ],
      "metadata": {
        "colab": {
          "base_uri": "https://localhost:8080/"
        },
        "id": "qKjHdSaLSzts",
        "outputId": "91d08e0f-f5e6-4e55-bb44-8c99ee3a9cc8"
      },
      "execution_count": null,
      "outputs": [
        {
          "output_type": "execute_result",
          "data": {
            "text/plain": [
              "(357.0,\n",
              " array([0., 0., 0., 0., 0., 0., 0., 0., 0., 0., 0., 0., 0., 0., 0., 0., 0.,\n",
              "        0., 0., 1., 0., 0., 0., 0., 0., 0., 0., 0., 0., 0., 0., 0., 0., 0.,\n",
              "        0., 0., 0., 0., 0., 0., 0., 0., 0., 0., 0., 0., 0., 0., 0., 0., 0.,\n",
              "        0., 0., 0., 0., 0., 0., 0., 0., 0., 0., 0., 0., 0., 0., 0., 0., 0.,\n",
              "        0., 0., 1., 0., 0., 0., 0., 0., 0., 0., 0., 0., 0., 0., 0., 0., 0.,\n",
              "        0., 0., 0., 0., 0., 0., 0., 0., 0., 0., 0., 0., 0., 0., 0., 0., 0.,\n",
              "        0., 0., 0., 0., 0., 0., 0., 0., 0., 0., 0., 0., 0.]))"
            ]
          },
          "metadata": {},
          "execution_count": 24
        }
      ]
    },
    {
      "cell_type": "markdown",
      "metadata": {
        "id": "_5FAHHCK6ahm"
      },
      "source": [
        "# Vecindades Variables\n",
        "\n",
        "Sizes es una lista de listas donde cada elemento es [tamaño de la vecindad, cambios]\n",
        "\n",
        "\n",
        "InitialSolution(p)\n"
      ]
    },
    {
      "cell_type": "code",
      "execution_count": null,
      "metadata": {
        "id": "AT-l6YAHJpFs"
      },
      "outputs": [],
      "source": [
        "def InitialSolution(p):\n",
        "  s = random.randint(0,2,p[0])\n",
        "\n",
        "  return s"
      ]
    },
    {
      "cell_type": "markdown",
      "metadata": {
        "id": "eM59hGG2Jpth"
      },
      "source": [
        "\n",
        "\n",
        "---\n",
        "\n"
      ]
    },
    {
      "cell_type": "code",
      "execution_count": null,
      "metadata": {
        "id": "vlKUjDbBJXEs"
      },
      "outputs": [],
      "source": [
        "def Shaking(P,p,s_star,k,Sizes,seed):\n",
        "\n",
        "  V = Neighborhood(p,s_star,Sizes[k][0],Sizes[k][1],seed)\n",
        "  i = random.randint(0,V.shape[0])\n",
        "\n",
        "  s_0 = V[i,:]\n",
        "\n",
        "  return s_0"
      ]
    },
    {
      "cell_type": "code",
      "execution_count": null,
      "metadata": {
        "id": "8ocSY3VIektk"
      },
      "outputs": [],
      "source": [
        "def VND(P,p,s,Sizes,seed):\n",
        "\n",
        "  s_star = np.copy(s)\n",
        "  f_star = f(P,s)\n",
        "\n",
        "  l_max = len(Sizes)\n",
        "\n",
        "  l = 0\n",
        "\n",
        "  while l < l_max:\n",
        "\n",
        "    (f_s,s) = LocalSearch(P,Neighborhood(p,s_star,Sizes[l][0],Sizes[l][1],seed))\n",
        "\n",
        "    if f_s >= f_star:\n",
        "      s_star = np.copy(s)\n",
        "      f_star = f_s\n",
        "      l = l+1\n",
        "\n",
        "    else:\n",
        "      l = 0\n",
        "      \n",
        "\n",
        "  return (f_star,s_star)"
      ]
    },
    {
      "cell_type": "code",
      "execution_count": null,
      "metadata": {
        "id": "VjPqAvwL7Eob"
      },
      "outputs": [],
      "source": [
        "def VariableNeighborhoodSearch(P,p,Sizes,seed,TIME):\n",
        "  start_time = time.time()\n",
        "  now_time = time.time()\n",
        "  \n",
        "  \n",
        "  random.seed(seed)\n",
        "\n",
        "  s_star = InitialSolution(p)\n",
        "  f_star = f(P,s_star)\n",
        "\n",
        "  k_max = len(Sizes)\n",
        "  k = 0\n",
        "\n",
        "  while (k < k_max) and (now_time - start_time < TIME):\n",
        "    s_0 = Shaking(P,p,s_star,k,Sizes,seed)\n",
        "    (f_s1,s1) = LocalSearch(P,Neighborhood(p,s_star,Sizes[k][0],Sizes[k][1],seed))\n",
        "\n",
        "    if f_s1 > f_star:\n",
        "      s_star = np.copy(s1)\n",
        "      f_star = f_s1\n",
        "\n",
        "      k = 0\n",
        "    else:\n",
        "      \n",
        "      k = k + 1\n",
        "\n",
        "\n",
        "    now_time = time.time()\n",
        "\n",
        "  return (f_star,s_star)\n"
      ]
    },
    {
      "cell_type": "markdown",
      "source": [
        "#VNS Analysis"
      ],
      "metadata": {
        "id": "PJY-63xyeC_w"
      }
    },
    {
      "cell_type": "code",
      "source": [
        "np.random.randint(1234567)\n",
        "s=np.random.randint(0,2,225)"
      ],
      "metadata": {
        "id": "iu3-pmozejnf"
      },
      "execution_count": null,
      "outputs": []
    },
    {
      "cell_type": "code",
      "source": [
        "s"
      ],
      "metadata": {
        "colab": {
          "base_uri": "https://localhost:8080/"
        },
        "id": "QEiwbyDEOp3C",
        "outputId": "fcbd51d5-0651-4cf2-b3b0-ecb4cca9a273"
      },
      "execution_count": null,
      "outputs": [
        {
          "output_type": "execute_result",
          "data": {
            "text/plain": [
              "array([0, 0, 1, 0, 0, 0, 0, 0, 0, 1, 1, 1, 0, 1, 0, 1, 1, 0, 0, 0, 0, 1,\n",
              "       1, 0, 1, 0, 1, 1, 0, 0, 1, 0, 1, 1, 0, 0, 0, 0, 0, 0, 1, 0, 1, 1,\n",
              "       1, 1, 0, 1, 1, 0, 0, 1, 0, 1, 0, 1, 1, 0, 0, 1, 0, 1, 1, 0, 1, 1,\n",
              "       0, 0, 1, 1, 1, 0, 1, 0, 1, 1, 0, 0, 0, 1, 0, 0, 0, 0, 0, 1, 1, 1,\n",
              "       0, 1, 0, 1, 1, 1, 1, 1, 1, 1, 1, 1, 0, 0, 1, 0, 0, 1, 1, 1, 1, 0,\n",
              "       1, 1, 1, 0, 0, 0, 0, 1, 0, 0, 1, 1, 0, 1, 1, 1, 1, 0, 1, 0, 0, 1,\n",
              "       1, 1, 0, 1, 1, 1, 0, 1, 0, 1, 0, 0, 1, 0, 0, 0, 1, 0, 0, 0, 1, 1,\n",
              "       1, 0, 0, 0, 0, 1, 0, 1, 0, 1, 0, 1, 1, 1, 1, 0, 1, 1, 0, 1, 1, 0,\n",
              "       1, 1, 1, 0, 0, 0, 1, 0, 0, 1, 1, 0, 0, 0, 0, 0, 0, 1, 0, 1, 0, 1,\n",
              "       0, 0, 1, 0, 0, 1, 0, 1, 0, 1, 1, 0, 0, 1, 0, 0, 0, 1, 1, 1, 1, 0,\n",
              "       1, 0, 1, 1, 0])"
            ]
          },
          "metadata": {},
          "execution_count": 12
        }
      ]
    },
    {
      "cell_type": "code",
      "source": [
        "f(PQueens,s)"
      ],
      "metadata": {
        "colab": {
          "base_uri": "https://localhost:8080/"
        },
        "id": "5XKrcbHdOq4s",
        "outputId": "4e2284c0-79ac-4cd1-8efd-509d4e3f8ff9"
      },
      "execution_count": null,
      "outputs": [
        {
          "output_type": "execute_result",
          "data": {
            "text/plain": [
              "3879.0"
            ]
          },
          "metadata": {},
          "execution_count": 13
        }
      ]
    },
    {
      "cell_type": "code",
      "source": [
        "Sizes = [[250,2],[225,2],[200,2],[200,1] ]"
      ],
      "metadata": {
        "id": "Yy0v4FqDPAV_"
      },
      "execution_count": null,
      "outputs": []
    },
    {
      "cell_type": "code",
      "source": [
        "VariableNeighborhoodSearch(PQueens,pQueens,Sizes,1234567,60)"
      ],
      "metadata": {
        "colab": {
          "base_uri": "https://localhost:8080/"
        },
        "id": "7tFHTnxaOvhJ",
        "outputId": "bcbce83d-68a7-40aa-8653-da351f295820"
      },
      "execution_count": null,
      "outputs": [
        {
          "output_type": "execute_result",
          "data": {
            "text/plain": [
              "(4152.0,\n",
              " array([1., 1., 0., 0., 1., 0., 0., 1., 0., 1., 0., 0., 1., 1., 1., 0., 0.,\n",
              "        1., 1., 0., 1., 1., 0., 0., 1., 0., 1., 0., 1., 1., 0., 1., 0., 0.,\n",
              "        0., 0., 0., 0., 0., 0., 0., 0., 0., 0., 1., 0., 1., 0., 0., 0., 1.,\n",
              "        0., 1., 1., 0., 0., 0., 0., 1., 1., 0., 0., 0., 1., 1., 0., 0., 0.,\n",
              "        0., 0., 1., 1., 1., 1., 1., 1., 0., 0., 1., 1., 1., 1., 1., 1., 0.,\n",
              "        0., 1., 0., 1., 0., 0., 0., 1., 0., 1., 0., 1., 0., 1., 1., 1., 1.,\n",
              "        1., 0., 1., 0., 1., 1., 0., 1., 0., 1., 0., 0., 0., 1., 0., 1., 1.,\n",
              "        0., 1., 1., 0., 0., 1., 0., 1., 0., 0., 0., 0., 1., 0., 0., 1., 0.,\n",
              "        1., 1., 0., 1., 0., 0., 0., 0., 0., 0., 1., 0., 0., 0., 0., 1., 0.,\n",
              "        1., 0., 1., 1., 0., 0., 1., 0., 1., 0., 1., 1., 1., 1., 0., 0., 1.,\n",
              "        0., 0., 0., 1., 0., 0., 0., 0., 0., 1., 0., 1., 1., 0., 0., 1., 1.,\n",
              "        0., 0., 1., 1., 1., 1., 1., 0., 0., 0., 1., 0., 1., 0., 0., 1., 1.,\n",
              "        1., 1., 0., 1., 0., 1., 0., 1., 1., 1., 0., 0., 1., 0., 0., 1., 1.,\n",
              "        0., 1., 0., 0.]))"
            ]
          },
          "metadata": {},
          "execution_count": 15
        }
      ]
    },
    {
      "cell_type": "code",
      "source": [
        "VariableNeighborhoodSearch(PQueens,pQueens,Sizes,1234567,120)"
      ],
      "metadata": {
        "colab": {
          "base_uri": "https://localhost:8080/"
        },
        "id": "u6wsCuhsPg9Z",
        "outputId": "c74a88b1-7c50-4a98-b8e5-3fb1a1de5e4a"
      },
      "execution_count": null,
      "outputs": [
        {
          "output_type": "execute_result",
          "data": {
            "text/plain": [
              "(4198.0,\n",
              " array([1., 1., 0., 0., 1., 0., 0., 1., 0., 1., 0., 0., 1., 1., 1., 0., 0.,\n",
              "        1., 1., 0., 1., 1., 0., 0., 1., 0., 1., 0., 1., 1., 0., 1., 0., 0.,\n",
              "        0., 0., 0., 0., 0., 0., 0., 0., 0., 0., 1., 0., 1., 0., 0., 0., 1.,\n",
              "        0., 1., 1., 0., 0., 0., 0., 1., 1., 0., 0., 0., 1., 1., 0., 0., 0.,\n",
              "        0., 0., 1., 1., 1., 1., 1., 1., 0., 0., 0., 0., 1., 1., 1., 1., 0.,\n",
              "        0., 1., 0., 1., 0., 0., 0., 1., 0., 1., 0., 1., 0., 1., 1., 1., 1.,\n",
              "        1., 0., 1., 0., 1., 1., 0., 1., 0., 1., 0., 0., 0., 1., 0., 1., 1.,\n",
              "        0., 1., 1., 0., 0., 1., 0., 1., 0., 0., 0., 0., 1., 0., 0., 1., 0.,\n",
              "        1., 1., 0., 1., 0., 0., 0., 0., 0., 0., 1., 0., 0., 0., 0., 1., 0.,\n",
              "        1., 0., 1., 1., 0., 0., 1., 0., 1., 0., 1., 1., 1., 1., 0., 0., 1.,\n",
              "        0., 0., 0., 1., 0., 0., 0., 0., 0., 1., 0., 1., 1., 0., 0., 1., 1.,\n",
              "        0., 0., 1., 1., 1., 1., 1., 0., 0., 0., 1., 0., 1., 0., 0., 1., 1.,\n",
              "        1., 1., 0., 1., 0., 1., 0., 1., 1., 1., 0., 0., 1., 0., 0., 1., 1.,\n",
              "        0., 1., 0., 0.]))"
            ]
          },
          "metadata": {},
          "execution_count": 16
        }
      ]
    },
    {
      "cell_type": "code",
      "source": [
        ""
      ],
      "metadata": {
        "id": "bEfiJpnCWq-C"
      },
      "execution_count": null,
      "outputs": []
    },
    {
      "cell_type": "code",
      "source": [
        "np.random.randint(1234567)\n",
        "s=np.random.randint(0,2,115)"
      ],
      "metadata": {
        "id": "tdojdCdxP9zc"
      },
      "execution_count": null,
      "outputs": []
    },
    {
      "cell_type": "code",
      "source": [
        "s"
      ],
      "metadata": {
        "colab": {
          "base_uri": "https://localhost:8080/"
        },
        "id": "K285NIRyQAgw",
        "outputId": "584a987f-a64e-4578-f49f-807926a5a8bc"
      },
      "execution_count": null,
      "outputs": [
        {
          "output_type": "execute_result",
          "data": {
            "text/plain": [
              "array([0, 0, 0, 0, 1, 1, 1, 0, 1, 0, 1, 0, 0, 1, 0, 1, 1, 0, 0, 0, 0, 0,\n",
              "       0, 1, 0, 0, 0, 1, 0, 0, 1, 0, 0, 1, 0, 0, 1, 1, 1, 0, 0, 0, 0, 0,\n",
              "       0, 1, 0, 0, 0, 0, 1, 0, 1, 0, 0, 0, 0, 0, 0, 1, 1, 0, 1, 0, 0, 1,\n",
              "       0, 0, 0, 1, 1, 0, 0, 1, 1, 1, 0, 1, 0, 1, 1, 0, 0, 0, 0, 1, 0, 0,\n",
              "       1, 1, 1, 1, 1, 1, 0, 0, 0, 1, 1, 1, 1, 0, 0, 0, 0, 0, 1, 1, 1, 1,\n",
              "       1, 1, 0, 1, 1])"
            ]
          },
          "metadata": {},
          "execution_count": 18
        }
      ]
    },
    {
      "cell_type": "code",
      "source": [
        "f(Pcolor,s)"
      ],
      "metadata": {
        "colab": {
          "base_uri": "https://localhost:8080/"
        },
        "id": "MLY1HHiUPvlV",
        "outputId": "ad516442-09c2-468f-db06-6334ce53412c"
      },
      "execution_count": null,
      "outputs": [
        {
          "output_type": "execute_result",
          "data": {
            "text/plain": [
              "304.0"
            ]
          },
          "metadata": {},
          "execution_count": 19
        }
      ]
    },
    {
      "cell_type": "code",
      "source": [
        "VariableNeighborhoodSearch(Pcolor,pcolor,Sizes,1234567,60)"
      ],
      "metadata": {
        "colab": {
          "base_uri": "https://localhost:8080/"
        },
        "id": "0aEaQY5uPqYH",
        "outputId": "38c7c1f6-61f3-4f91-fa28-03e88cdb492c"
      },
      "execution_count": null,
      "outputs": [
        {
          "output_type": "execute_result",
          "data": {
            "text/plain": [
              "(376.0,\n",
              " array([1., 0., 0., 0., 1., 0., 0., 0., 0., 0., 0., 0., 0., 0., 0., 1., 0.,\n",
              "        0., 0., 0., 1., 1., 0., 0., 1., 0., 1., 0., 0., 1., 0., 1., 0., 0.,\n",
              "        0., 0., 0., 0., 0., 0., 0., 0., 1., 0., 0., 0., 0., 0., 0., 0., 0.,\n",
              "        1., 1., 1., 1., 1., 0., 0., 0., 0., 0., 0., 0., 1., 1., 0., 1., 0.,\n",
              "        0., 0., 0., 0., 0., 0., 0., 0., 0., 0., 0., 0., 1., 1., 1., 1., 0.,\n",
              "        1., 1., 0., 0., 0., 0., 0., 0., 0., 0., 0., 0., 0., 0., 0., 0., 0.,\n",
              "        1., 0., 1., 0., 1., 0., 0., 0., 0., 0., 0., 0., 0.]))"
            ]
          },
          "metadata": {},
          "execution_count": 20
        }
      ]
    },
    {
      "cell_type": "code",
      "source": [
        "VariableNeighborhoodSearch(Pcolor,pcolor,Sizes,1234567,120)"
      ],
      "metadata": {
        "colab": {
          "base_uri": "https://localhost:8080/"
        },
        "id": "P8RDa_bvPsgo",
        "outputId": "ee7a5e12-4711-44bf-b24d-0277b1742c4b"
      },
      "execution_count": null,
      "outputs": [
        {
          "output_type": "execute_result",
          "data": {
            "text/plain": [
              "(376.0,\n",
              " array([1., 0., 0., 0., 1., 0., 0., 0., 0., 0., 0., 0., 0., 0., 0., 1., 0.,\n",
              "        0., 0., 0., 1., 1., 0., 0., 1., 0., 1., 0., 0., 1., 0., 1., 0., 0.,\n",
              "        0., 0., 0., 0., 0., 0., 0., 0., 1., 0., 0., 0., 0., 0., 0., 0., 0.,\n",
              "        1., 1., 1., 1., 1., 0., 0., 0., 0., 0., 0., 0., 1., 1., 0., 1., 0.,\n",
              "        0., 0., 0., 0., 0., 0., 0., 0., 0., 0., 0., 0., 1., 1., 1., 1., 0.,\n",
              "        1., 1., 0., 0., 0., 0., 0., 0., 0., 0., 0., 0., 0., 0., 0., 0., 0.,\n",
              "        1., 0., 1., 0., 1., 0., 0., 0., 0., 0., 0., 0., 0.]))"
            ]
          },
          "metadata": {},
          "execution_count": 21
        }
      ]
    },
    {
      "cell_type": "markdown",
      "metadata": {
        "id": "WVOpLRjs2isi"
      },
      "source": [
        "# Algoritmos genéticos\n",
        "\n",
        "Initialization(P,p,size)\n",
        "\n",
        "Selection(P,p,Population)\n",
        "\n",
        "Recombination(P,p,MatingPool)\n",
        "\n",
        "Mutation(P,p,Offspring)\n",
        "\n",
        "Replacement(P,p,Population,Offspring)"
      ]
    },
    {
      "cell_type": "code",
      "execution_count": null,
      "metadata": {
        "id": "_9XlMmQ9Meov"
      },
      "outputs": [],
      "source": [
        "def Initialization(P,p,size):\n",
        "\n",
        "  Population = []\n",
        "  for i in range(size):\n",
        "    Population.append(random.randint(0,2,p[0]))\n",
        "  Population=np.array(Population)\n",
        "\n",
        "  return Population"
      ]
    },
    {
      "cell_type": "code",
      "execution_count": null,
      "metadata": {
        "id": "ixTRYdOrNAz8"
      },
      "outputs": [],
      "source": [
        "def Selection(P,p,Population,size):\n",
        "\n",
        "  a=np.arange(Population.shape[0])\n",
        "  MatingPool=[]\n",
        "    \n",
        "  Values = [f(P,Population[i,:]) for i in range(Population.shape[0])]\n",
        "  sum = np.sum(Values)\n",
        "  P = [value/sum for value in Values]\n",
        "\n",
        "  for i in range(int(size/2)):\n",
        "    MatingPool.append(random.choice(a,2,p))\n",
        "\n",
        "  return MatingPool"
      ]
    },
    {
      "cell_type": "code",
      "execution_count": null,
      "metadata": {
        "id": "3puDXrKCO_Qc"
      },
      "outputs": [],
      "source": [
        "  def Recombination(P,p,MatingPool,Population):\n",
        "    Offspring=[]\n",
        "\n",
        "    for pair in MatingPool:\n",
        "      n=random.randint(p[0])\n",
        "      son=np.append(Population[pair[0],0:n],Population[pair[1],n:p[0]])\n",
        "      Offspring.append(son)\n",
        "\n",
        "    return Offspring"
      ]
    },
    {
      "cell_type": "code",
      "execution_count": null,
      "metadata": {
        "id": "dA3XKtExVjwL"
      },
      "outputs": [],
      "source": [
        ""
      ]
    },
    {
      "cell_type": "code",
      "execution_count": null,
      "metadata": {
        "id": "369YTzQpWNs4"
      },
      "outputs": [],
      "source": [
        "def Recombination(P,p,MatingPool,Population):\n",
        "\n",
        "  Offspring=[]\n",
        "  for pair in MatingPool:\n",
        "    key=random.randint(0,2,p[0])\n",
        "    son=[]\n",
        "    for i in range(p[0]):\n",
        "      if key[i]==0:\n",
        "        son.append(Population[pair[0],i])\n",
        "      else:\n",
        "        son.append(Population[pair[1],i])\n",
        "    son=np.array(son)\n",
        "    Offspring.append(son)\n",
        "  return Offspring"
      ]
    },
    {
      "cell_type": "code",
      "execution_count": null,
      "metadata": {
        "id": "dFj8EF7FPatQ"
      },
      "outputs": [],
      "source": [
        "def Mutation(P,p,Offspring):\n",
        "\n",
        "  M=random.uniform(0,1,len(Offspring))\n",
        "  M[M > 0.2]=0\n",
        "  M[M != 0]=1\n",
        "\n",
        "  for i in range(len(Offspring)):\n",
        "    if M[i]==1:\n",
        "      l=Offspring[i].shape[0]\n",
        "      n=random.randint(l)\n",
        "      Offspring[i][n]=1-Offspring[i][n]\n",
        "\n",
        "  return Offspring\n"
      ]
    },
    {
      "cell_type": "code",
      "execution_count": null,
      "metadata": {
        "id": "kF2nAvTvQ7P7"
      },
      "outputs": [],
      "source": [
        "def Replacement(P,p,Population,Offspring,size):\n",
        "  new_population=[]\n",
        "  for i in range(size):\n",
        "    new_population.append(np.append(Population[i,:],f(P,Population[i,:])))\n",
        "\n",
        "  new_population=np.array(new_population)\n",
        "  new_population = new_population[np.argsort(new_population[:, -1])]\n",
        "  new_population=np.delete(new_population,-1,1)\n",
        "  new_population=np.delete(new_population,range(int(size/2)),0)\n",
        "\n",
        "  for son in Offspring:\n",
        "    new_population=tuple(new_population)\n",
        "    new_population=np.vstack((new_population,son))\n",
        "    \n",
        "  new_population=np.array(new_population)\n",
        "  return Population"
      ]
    },
    {
      "cell_type": "markdown",
      "metadata": {
        "id": "XoUCQVTPMc8T"
      },
      "source": [
        "\n",
        "\n",
        "---\n",
        "\n"
      ]
    },
    {
      "cell_type": "code",
      "execution_count": null,
      "metadata": {
        "id": "MQuVq-t-2lhZ"
      },
      "outputs": [],
      "source": [
        "def GeneticAlgorithm(P,p,size,seed,TIME):\n",
        "  \n",
        "  start_time = time.time()\n",
        "  now_time = time.time()\n",
        "\n",
        "  random.seed(seed)\n",
        "\n",
        "  Population = Initialization(P,p,size)\n",
        "\n",
        "\n",
        "  while now_time - start_time < TIME:\n",
        "\n",
        "\n",
        "    MatingPool = Selection(P,p,Population,size)\n",
        "\n",
        "    Offspring = Recombination(P,p,MatingPool,Population)\n",
        "\n",
        "    Offspring = Mutation(P,p,Offspring)\n",
        "\n",
        "    Population = Replacement(P,p,Population,Offspring,size)\n",
        "\n",
        "    now_time = time.time()\n",
        "  \n",
        "  (f_star,s_star) = LocalSearch(P,Population)\n",
        "\n",
        "  return (f_star,s_star) \n"
      ]
    },
    {
      "cell_type": "code",
      "source": [
        ""
      ],
      "metadata": {
        "id": "XwI7b6zxbmtS"
      },
      "execution_count": null,
      "outputs": []
    },
    {
      "cell_type": "markdown",
      "source": [
        "#GA Analysis"
      ],
      "metadata": {
        "id": "P3Djy4qblTQ8"
      }
    },
    {
      "cell_type": "code",
      "source": [
        "GeneticAlgorithm(PQueens,pQueens,150,123456,60)"
      ],
      "metadata": {
        "colab": {
          "base_uri": "https://localhost:8080/"
        },
        "id": "epA-dXgUi7vr",
        "outputId": "2fb86d61-2002-4d6d-e96d-49155310c1b5"
      },
      "execution_count": null,
      "outputs": [
        {
          "output_type": "execute_result",
          "data": {
            "text/plain": [
              "(4361.0,\n",
              " array([0, 0, 0, 0, 0, 1, 1, 0, 0, 0, 1, 1, 0, 0, 1, 0, 0, 1, 1, 1, 1, 1,\n",
              "        1, 0, 1, 0, 0, 0, 0, 1, 0, 0, 0, 0, 1, 1, 1, 1, 1, 1, 0, 1, 0, 0,\n",
              "        0, 1, 1, 1, 1, 0, 0, 0, 0, 0, 0, 1, 0, 1, 1, 1, 0, 1, 1, 0, 1, 0,\n",
              "        1, 1, 0, 0, 0, 0, 1, 0, 0, 0, 0, 1, 0, 1, 0, 1, 0, 1, 1, 1, 0, 0,\n",
              "        0, 1, 1, 1, 0, 0, 0, 1, 0, 1, 0, 0, 0, 1, 0, 0, 0, 0, 0, 0, 0, 0,\n",
              "        0, 1, 0, 0, 0, 1, 0, 0, 0, 1, 0, 0, 0, 1, 0, 0, 1, 1, 1, 1, 0, 0,\n",
              "        1, 1, 0, 1, 1, 1, 0, 1, 1, 1, 0, 0, 0, 0, 0, 0, 0, 0, 1, 0, 0, 0,\n",
              "        0, 1, 1, 1, 0, 0, 1, 1, 1, 0, 0, 0, 0, 0, 1, 1, 1, 1, 0, 1, 0, 1,\n",
              "        0, 0, 0, 0, 1, 1, 0, 0, 0, 1, 1, 1, 0, 0, 1, 0, 0, 0, 1, 0, 0, 0,\n",
              "        0, 1, 0, 0, 0, 0, 1, 0, 0, 0, 0, 0, 0, 0, 0, 1, 0, 0, 1, 1, 0, 1,\n",
              "        1, 0, 0, 0, 0]))"
            ]
          },
          "metadata": {},
          "execution_count": 30
        }
      ]
    },
    {
      "cell_type": "code",
      "source": [
        "GeneticAlgorithm(PQueens,pQueens,50,123456,60)"
      ],
      "metadata": {
        "colab": {
          "base_uri": "https://localhost:8080/"
        },
        "id": "nunnzQbLcP6U",
        "outputId": "a121b9b7-bfa5-40cc-b28b-ca8eabf5e3f7"
      },
      "execution_count": null,
      "outputs": [
        {
          "output_type": "execute_result",
          "data": {
            "text/plain": [
              "(4245.0,\n",
              " array([0, 1, 0, 0, 0, 0, 1, 1, 1, 0, 1, 0, 1, 0, 0, 0, 1, 1, 0, 1, 1, 0,\n",
              "        0, 0, 1, 0, 0, 1, 0, 0, 1, 0, 0, 1, 0, 1, 0, 0, 0, 0, 0, 0, 0, 0,\n",
              "        1, 0, 0, 0, 0, 0, 0, 0, 1, 1, 0, 0, 0, 0, 1, 0, 1, 0, 0, 1, 1, 1,\n",
              "        0, 0, 1, 0, 0, 0, 1, 0, 1, 1, 1, 0, 0, 1, 1, 0, 0, 1, 0, 0, 0, 1,\n",
              "        1, 1, 1, 0, 1, 0, 1, 1, 0, 0, 1, 1, 0, 1, 0, 0, 1, 1, 0, 1, 0, 0,\n",
              "        0, 0, 0, 1, 1, 1, 1, 1, 1, 0, 0, 0, 0, 1, 1, 0, 0, 0, 0, 1, 0, 1,\n",
              "        1, 1, 0, 0, 1, 1, 0, 1, 0, 0, 0, 1, 1, 0, 0, 0, 0, 0, 0, 1, 1, 1,\n",
              "        1, 0, 0, 1, 0, 1, 0, 1, 1, 0, 1, 1, 0, 0, 1, 1, 0, 1, 0, 0, 1, 1,\n",
              "        0, 0, 1, 0, 0, 0, 1, 0, 1, 0, 1, 1, 0, 0, 1, 0, 1, 1, 1, 1, 1, 0,\n",
              "        1, 0, 0, 1, 1, 0, 0, 0, 0, 1, 0, 0, 0, 0, 1, 0, 0, 1, 0, 1, 0, 0,\n",
              "        1, 1, 1, 0, 1]))"
            ]
          },
          "metadata": {},
          "execution_count": 28
        }
      ]
    },
    {
      "cell_type": "code",
      "source": [
        "GeneticAlgorithm(PQueens,pQueens,100,1234567,120)"
      ],
      "metadata": {
        "id": "jKT1sV-hX04L",
        "colab": {
          "base_uri": "https://localhost:8080/"
        },
        "outputId": "f628d05a-1b12-41ed-d3bc-aa5c645221f9"
      },
      "execution_count": null,
      "outputs": [
        {
          "output_type": "execute_result",
          "data": {
            "text/plain": [
              "(4392.0,\n",
              " array([0, 0, 1, 0, 1, 1, 0, 0, 1, 0, 0, 1, 1, 1, 1, 0, 0, 1, 1, 1, 1, 1,\n",
              "        1, 1, 1, 0, 0, 1, 1, 0, 0, 0, 0, 0, 1, 1, 1, 1, 1, 1, 1, 1, 0, 0,\n",
              "        1, 0, 1, 0, 1, 0, 0, 0, 0, 0, 0, 1, 1, 0, 1, 0, 0, 1, 1, 1, 1, 0,\n",
              "        1, 0, 0, 0, 1, 0, 0, 0, 1, 1, 0, 0, 0, 1, 0, 0, 0, 0, 0, 0, 0, 1,\n",
              "        0, 0, 0, 1, 0, 1, 1, 1, 1, 0, 1, 1, 1, 0, 1, 0, 1, 0, 1, 1, 0, 0,\n",
              "        0, 0, 0, 0, 0, 1, 0, 0, 0, 1, 1, 0, 1, 0, 0, 1, 0, 1, 1, 0, 0, 1,\n",
              "        0, 1, 0, 0, 0, 0, 0, 0, 0, 0, 0, 0, 0, 0, 1, 1, 0, 0, 0, 1, 0, 1,\n",
              "        0, 1, 0, 0, 0, 0, 0, 1, 0, 0, 0, 0, 0, 1, 1, 0, 1, 0, 1, 1, 0, 0,\n",
              "        0, 0, 0, 0, 0, 1, 0, 1, 1, 0, 1, 1, 0, 0, 0, 0, 1, 0, 0, 0, 0, 1,\n",
              "        0, 0, 1, 0, 0, 1, 0, 0, 1, 0, 0, 1, 0, 1, 0, 0, 0, 0, 1, 0, 0, 0,\n",
              "        0, 0, 0, 1, 0]))"
            ]
          },
          "metadata": {},
          "execution_count": 20
        }
      ]
    },
    {
      "cell_type": "code",
      "source": [
        "GeneticAlgorithm(Pcolor,pcolor,50,1234567,60)"
      ],
      "metadata": {
        "colab": {
          "base_uri": "https://localhost:8080/"
        },
        "id": "UCwXUIn5csg3",
        "outputId": "da88c337-54ff-45d7-f90d-088b854cd292"
      },
      "execution_count": null,
      "outputs": [
        {
          "output_type": "execute_result",
          "data": {
            "text/plain": [
              "(323.0,\n",
              " array([0, 1, 0, 1, 0, 0, 0, 1, 1, 0, 0, 0, 0, 1, 0, 1, 0, 1, 1, 1, 0, 1,\n",
              "        1, 0, 0, 1, 0, 1, 1, 0, 0, 1, 1, 0, 1, 1, 0, 1, 0, 0, 0, 0, 1, 0,\n",
              "        1, 1, 1, 0, 1, 0, 0, 0, 0, 1, 0, 0, 0, 0, 1, 0, 0, 0, 1, 0, 1, 1,\n",
              "        1, 0, 1, 0, 0, 1, 0, 0, 0, 0, 1, 1, 1, 0, 1, 0, 0, 1, 1, 0, 0, 0,\n",
              "        0, 1, 0, 0, 1, 0, 0, 0, 0, 0, 0, 1, 1, 1, 0, 1, 0, 1, 0, 0, 1, 0,\n",
              "        1, 1, 0, 0, 0]))"
            ]
          },
          "metadata": {},
          "execution_count": 27
        }
      ]
    },
    {
      "cell_type": "code",
      "source": [
        "GeneticAlgorithm(Pcolor,pcolor,100,123457,60)"
      ],
      "metadata": {
        "colab": {
          "base_uri": "https://localhost:8080/"
        },
        "id": "M0k_iDy8ctfK",
        "outputId": "fbbf4ca6-0d51-4162-a77d-c487663eb262"
      },
      "execution_count": null,
      "outputs": [
        {
          "output_type": "execute_result",
          "data": {
            "text/plain": [
              "(317.0,\n",
              " array([0, 1, 0, 0, 0, 0, 1, 1, 0, 0, 1, 1, 0, 0, 1, 0, 0, 1, 0, 0, 0, 0,\n",
              "        0, 0, 1, 0, 1, 0, 0, 0, 0, 1, 1, 0, 0, 0, 0, 1, 1, 0, 0, 1, 0, 1,\n",
              "        0, 1, 0, 1, 1, 0, 0, 1, 0, 0, 1, 0, 0, 1, 1, 0, 0, 0, 0, 0, 0, 1,\n",
              "        0, 0, 1, 0, 1, 1, 0, 1, 1, 1, 0, 0, 1, 1, 0, 1, 1, 0, 1, 0, 0, 1,\n",
              "        1, 1, 1, 0, 1, 0, 0, 0, 1, 1, 0, 0, 0, 1, 1, 1, 1, 1, 0, 0, 0, 0,\n",
              "        1, 0, 0, 1, 0]))"
            ]
          },
          "metadata": {},
          "execution_count": 32
        }
      ]
    },
    {
      "cell_type": "code",
      "source": [
        "GeneticAlgorithm(Pcolor,pcolor,150,12367,60)"
      ],
      "metadata": {
        "colab": {
          "base_uri": "https://localhost:8080/"
        },
        "id": "os5AE9b0cuir",
        "outputId": "46cb6326-f0f1-4017-c60f-06f70eab9c6b"
      },
      "execution_count": null,
      "outputs": [
        {
          "output_type": "execute_result",
          "data": {
            "text/plain": [
              "(328.0,\n",
              " array([1, 1, 0, 1, 0, 0, 1, 0, 1, 0, 1, 0, 0, 1, 1, 0, 1, 0, 1, 1, 0, 1,\n",
              "        1, 1, 0, 0, 1, 0, 0, 1, 0, 0, 1, 0, 1, 0, 1, 1, 0, 0, 0, 0, 0, 1,\n",
              "        0, 1, 0, 1, 0, 0, 0, 1, 0, 0, 1, 0, 0, 1, 0, 1, 1, 0, 0, 0, 0, 1,\n",
              "        1, 0, 0, 0, 0, 0, 0, 1, 0, 0, 0, 0, 0, 0, 0, 1, 1, 1, 1, 1, 0, 0,\n",
              "        0, 1, 1, 0, 0, 0, 1, 0, 0, 0, 0, 0, 0, 0, 1, 0, 1, 0, 0, 0, 0, 0,\n",
              "        0, 0, 0, 1, 1]))"
            ]
          },
          "metadata": {},
          "execution_count": 31
        }
      ]
    },
    {
      "cell_type": "markdown",
      "metadata": {
        "id": "52LBwgo79kwl"
      },
      "source": [
        "# Optimización por colonias de hormigas\n",
        "\n",
        "PheromonesInitialization(p)\n",
        "\n",
        "ProbabilitiesMatrix(p,Pheromones)\n",
        "\n",
        "Candidates(p,S)\n",
        "\n",
        "Choose(L,Probabilities)\n",
        "\n"
      ]
    },
    {
      "cell_type": "code",
      "execution_count": null,
      "metadata": {
        "id": "pt8mkJvyzSIe"
      },
      "outputs": [],
      "source": [
        "def PheromonesInitialization(p):\n",
        "\n",
        "  Pheromones = np.full((2*p[0]+1,2*p[0]+1),0.5)\n",
        "\n",
        "  L = Candidates(p,[])\n",
        "\n",
        "  for i in range(2*p[0]+1):\n",
        "    for j in range(2*p[0]+1):\n",
        "      \n",
        "      if j > 0:\n",
        "        Pheromones[0,j] = L[j-1]\n",
        "\n",
        "      if i == j:\n",
        "        Pheromones[i,j] = 0\n",
        "      elif (i%2) == 0 and j == i-1:\n",
        "        Pheromones[i,j] = 0\n",
        "      elif (i%2) != 0 and j == i+1:\n",
        "        Pheromones[i,j] = 0\n",
        "    \n",
        "    if i > 0:\n",
        "      Pheromones[i,0] = L[i-1]\n",
        "\n",
        "\n",
        "  return Pheromones"
      ]
    },
    {
      "cell_type": "code",
      "execution_count": null,
      "metadata": {
        "id": "bpD35Ojd6xDw"
      },
      "outputs": [],
      "source": [
        "def ProbabilitiesInitialization(p):\n",
        "  Probabilities = np.full((2*p[0]+1,2*p[0]+1),1 / (p[0]-2))\n",
        "\n",
        "  L = Candidates(p,[])\n",
        "\n",
        "  for i in range(2*p[0]+1):\n",
        "    for j in range(2*p[0]+1):\n",
        "      \n",
        "      if j > 0:\n",
        "        Probabilities[0,j] = L[j-1]\n",
        "\n",
        "      if i == j:\n",
        "        Probabilities[i,j] = 0\n",
        "      elif (i%2) == 0 and j == i-1:\n",
        "        Probabilities[i,j] = 0\n",
        "      elif (i%2) != 0 and j == i+1:\n",
        "        Probabilities[i,j] = 0\n",
        "    \n",
        "    if i > 0:\n",
        "      Probabilities[i,0] = L[i-1]\n",
        "  return Probabilities"
      ]
    },
    {
      "cell_type": "code",
      "execution_count": null,
      "metadata": {
        "id": "eg07DJKU7XSw"
      },
      "outputs": [],
      "source": [
        "def Choose(p,S,L,Probabilities):\n",
        " \n",
        "  ALLCandidates = Probabilities[:,0]\n",
        "  ActualPosition = np.where(ALLCandidates == S[-1])[0]\n",
        "  RowOfProbabilities = Probabilities[ActualPosition,:]\n",
        "  \n",
        "  ProbabilitiesL = []\n",
        "\n",
        "  for i in range(len(L)):\n",
        "    index = np.where(ALLCandidates == L[i])[0][0]\n",
        "    ProbabilitiesL.append(RowOfProbabilities[0,index])\n",
        "  \n",
        "  Sum = np.sum(ProbabilitiesL)\n",
        "  \n",
        "  NormalizedProbabilities = [p/Sum for p in ProbabilitiesL]\n",
        "\n",
        "  Choosen = random.choice(L,p = NormalizedProbabilities, size = 1)[0]\n",
        "\n",
        "  return Choosen"
      ]
    },
    {
      "cell_type": "code",
      "execution_count": null,
      "metadata": {
        "id": "7Qhl9O6lI07-"
      },
      "outputs": [],
      "source": [
        "def PheromonesIntensification(Pheromones,BestWalk,delta):\n",
        "  ALLCandidates = Pheromones[:,0]\n",
        "  for i in range(len(BestWalk)-1):\n",
        "    index0 = np.where(ALLCandidates == BestWalk[i])[0][0]\n",
        "    index1 = np.where(ALLCandidates == BestWalk[i+1])[0][0]\n",
        "\n",
        "    Pheromones[index0,index1] = Pheromones[index0,index1] + delta\n",
        "    \n",
        "  return Pheromones"
      ]
    },
    {
      "cell_type": "code",
      "execution_count": null,
      "metadata": {
        "id": "j0gd8-nGUOFz"
      },
      "outputs": [],
      "source": [
        "def ProbabilitiesMatrix(Probabilities,Pheromones):\n",
        "  for i in range(1,Probabilities.shape[0]):\n",
        "    Sum = np.sum(Pheromones[i,1:])\n",
        "    for j in range(1,Probabilities.shape[1]):\n",
        "      Probabilities[i,j] = Pheromones[i,j] / Sum\n",
        "  \n",
        "  return Probabilities"
      ]
    },
    {
      "cell_type": "markdown",
      "metadata": {
        "id": "-vzSuEU0zRg_"
      },
      "source": [
        "\n",
        "\n",
        "---\n",
        "\n"
      ]
    },
    {
      "cell_type": "code",
      "execution_count": null,
      "metadata": {
        "id": "w11hbOMRYJ0V"
      },
      "outputs": [],
      "source": [
        "def AntColonyOptimization(P,p,k,rho,delta,seed,TIME):\n",
        "\n",
        "  start_time = time.time()\n",
        "  now_time = time.time()\n",
        "\n",
        "  random.seed(seed)\n",
        "\n",
        "  Pheromones = PheromonesInitialization(p)\n",
        "\n",
        "  Probabilities = ProbabilitiesInitialization(p)\n",
        "\n",
        "  random.seed(seed)\n",
        "\n",
        "  while now_time - start_time < TIME:\n",
        "\n",
        "    Solutions = []\n",
        "    Walks = []\n",
        "    for i in range(5):\n",
        "      S = []\n",
        "      L = Candidates(p,S)\n",
        "      \n",
        "      S.append(L[random.randint(len(L))])\n",
        "\n",
        "      while len(L) != 0:\n",
        "        Choosen = Choose(p,S,L,Probabilities)\n",
        "        S.append(Choosen)\n",
        "        L = Candidates(p,S)\n",
        "\n",
        "      s = SolutionFormat(p,S)\n",
        "      Solutions.append(s)\n",
        "      Walks.append(S)\n",
        "\n",
        "    Values = [f(P,s) for s in Solutions]\n",
        "\n",
        "    BestWalk = Walks[Values.index(max(Values))]\n",
        "\n",
        "    s_star = Solutions[Values.index(max(Values))]\n",
        "    f_star = max(Values)\n",
        "\n",
        "    for i in range(1,Pheromones.shape[0]):\n",
        "      for j in range(1,Pheromones.shape[1]):\n",
        "        Pheromones[i,j] = Pheromones[i,j] * (1-rho) \n",
        "\n",
        "\n",
        "    Pheromones = PheromonesIntensification(Pheromones,BestWalk,delta)\n",
        "\n",
        "    Probabilities = ProbabilitiesMatrix(Probabilities,Pheromones)\n",
        "\n",
        "    now_time = time.time()\n",
        "\n",
        "\n",
        "  return (f_star,s_star)\n",
        "\n",
        "\n",
        "\n"
      ]
    },
    {
      "cell_type": "markdown",
      "source": [
        "## OCA Analysis"
      ],
      "metadata": {
        "id": "8ccx5caDl265"
      }
    },
    {
      "cell_type": "code",
      "source": [
        "np.random.randint(1234567)"
      ],
      "metadata": {
        "id": "nI2LVbs-gVm8"
      },
      "execution_count": null,
      "outputs": []
    },
    {
      "cell_type": "code",
      "source": [
        "AntColonyOptimization(PQueens,pQueens,50,0.2,0.15,1234567,60)"
      ],
      "metadata": {
        "id": "EJQBLzUcgRGD",
        "colab": {
          "base_uri": "https://localhost:8080/"
        },
        "outputId": "a469e3a2-91dd-4141-f981-dfebc6ee324d"
      },
      "execution_count": null,
      "outputs": [
        {
          "output_type": "execute_result",
          "data": {
            "text/plain": [
              "(4073.0,\n",
              " array([0, 1, 1, 0, 0, 1, 0, 0, 0, 1, 0, 1, 0, 1, 1, 0, 0, 0, 0, 1, 1, 1,\n",
              "        0, 1, 0, 1, 1, 0, 1, 0, 1, 1, 0, 0, 0, 0, 0, 0, 0, 0, 0, 0, 1, 0,\n",
              "        1, 0, 0, 0, 0, 0, 0, 1, 1, 1, 1, 1, 1, 1, 0, 0, 0, 1, 1, 0, 1, 0,\n",
              "        1, 0, 0, 0, 1, 0, 1, 0, 0, 0, 0, 1, 0, 1, 1, 0, 0, 0, 1, 1, 1, 0,\n",
              "        1, 1, 1, 0, 1, 0, 0, 0, 0, 0, 0, 0, 1, 1, 1, 1, 0, 0, 0, 1, 0, 1,\n",
              "        0, 1, 0, 1, 1, 0, 1, 1, 0, 1, 0, 1, 0, 1, 1, 0, 1, 0, 1, 1, 1, 1,\n",
              "        1, 0, 0, 0, 1, 0, 0, 0, 1, 0, 0, 0, 1, 1, 0, 0, 1, 1, 1, 0, 0, 1,\n",
              "        0, 0, 1, 0, 0, 0, 0, 0, 0, 0, 1, 1, 1, 1, 1, 0, 1, 1, 0, 0, 1, 1,\n",
              "        1, 1, 1, 0, 0, 0, 0, 1, 0, 1, 1, 1, 1, 0, 0, 1, 1, 1, 1, 1, 1, 0,\n",
              "        0, 0, 0, 0, 0, 0, 0, 1, 0, 1, 1, 1, 1, 0, 0, 0, 1, 1, 0, 0, 1, 1,\n",
              "        0, 1, 0, 1, 0]))"
            ]
          },
          "metadata": {},
          "execution_count": 44
        }
      ]
    },
    {
      "cell_type": "code",
      "source": [
        "AntColonyOptimization(PQueens,pQueens,50,0.2,0.15,1234567,120)"
      ],
      "metadata": {
        "colab": {
          "base_uri": "https://localhost:8080/"
        },
        "id": "FDhM-o7TwQUe",
        "outputId": "874c30ac-741c-4a6b-eadd-28cf30291d4f"
      },
      "execution_count": null,
      "outputs": [
        {
          "output_type": "execute_result",
          "data": {
            "text/plain": [
              "(4144.0,\n",
              " array([0, 1, 0, 1, 0, 0, 0, 0, 1, 0, 1, 0, 0, 0, 0, 1, 0, 0, 0, 1, 1, 0,\n",
              "        0, 0, 0, 1, 0, 1, 1, 0, 0, 0, 0, 0, 1, 1, 0, 0, 1, 0, 0, 0, 1, 1,\n",
              "        0, 0, 1, 0, 0, 1, 0, 1, 0, 0, 1, 1, 0, 0, 0, 1, 1, 0, 0, 0, 1, 1,\n",
              "        0, 0, 1, 0, 1, 0, 1, 1, 1, 0, 1, 1, 1, 1, 0, 1, 0, 1, 1, 1, 1, 1,\n",
              "        1, 0, 0, 1, 0, 0, 1, 0, 1, 1, 1, 0, 0, 0, 1, 1, 0, 1, 0, 1, 0, 1,\n",
              "        0, 0, 0, 1, 1, 0, 1, 0, 0, 0, 1, 1, 0, 1, 0, 0, 0, 0, 1, 0, 0, 1,\n",
              "        1, 1, 0, 0, 1, 1, 0, 0, 1, 0, 0, 0, 0, 0, 0, 1, 0, 0, 1, 1, 0, 0,\n",
              "        1, 1, 0, 0, 1, 0, 1, 1, 0, 0, 1, 1, 1, 0, 0, 1, 1, 1, 1, 0, 1, 1,\n",
              "        0, 0, 1, 1, 0, 0, 1, 1, 0, 0, 0, 0, 0, 1, 1, 1, 1, 0, 1, 0, 0, 1,\n",
              "        0, 0, 1, 1, 1, 0, 0, 0, 0, 1, 1, 0, 1, 1, 1, 1, 0, 1, 0, 0, 0, 0,\n",
              "        0, 1, 1, 0, 0]))"
            ]
          },
          "metadata": {},
          "execution_count": 45
        }
      ]
    },
    {
      "cell_type": "code",
      "source": [
        "AntColonyOptimization(PQueens,pQueens,50,0.2,0.15,1234567,240)"
      ],
      "metadata": {
        "colab": {
          "base_uri": "https://localhost:8080/"
        },
        "id": "Qxztgwik_YUp",
        "outputId": "c6ccaf39-7031-467c-fa8e-b1ca61818b24"
      },
      "execution_count": null,
      "outputs": [
        {
          "output_type": "execute_result",
          "data": {
            "text/plain": [
              "(4435.0,\n",
              " array([1, 0, 0, 1, 1, 0, 0, 0, 0, 0, 0, 0, 0, 0, 0, 0, 0, 1, 1, 0, 0, 0,\n",
              "        0, 0, 0, 0, 1, 0, 0, 0, 0, 0, 0, 0, 1, 0, 0, 0, 1, 0, 0, 0, 0, 1,\n",
              "        1, 0, 0, 1, 0, 1, 0, 1, 1, 1, 1, 0, 0, 1, 0, 0, 1, 0, 0, 0, 0, 0,\n",
              "        1, 1, 1, 0, 0, 0, 1, 1, 0, 0, 1, 1, 0, 0, 1, 0, 0, 0, 0, 0, 0, 0,\n",
              "        0, 0, 0, 1, 0, 0, 0, 0, 1, 1, 1, 1, 0, 0, 1, 0, 0, 1, 0, 0, 1, 0,\n",
              "        0, 0, 1, 1, 0, 1, 1, 1, 1, 1, 0, 1, 0, 1, 0, 0, 0, 1, 0, 0, 1, 1,\n",
              "        0, 1, 0, 0, 1, 0, 1, 0, 0, 0, 0, 1, 1, 0, 0, 1, 0, 0, 0, 0, 0, 1,\n",
              "        0, 1, 0, 1, 0, 0, 0, 1, 0, 0, 1, 0, 0, 0, 1, 1, 1, 1, 0, 0, 1, 1,\n",
              "        0, 1, 0, 0, 0, 1, 0, 0, 1, 1, 0, 1, 0, 1, 1, 1, 0, 0, 1, 0, 0, 1,\n",
              "        0, 1, 0, 1, 1, 1, 1, 0, 0, 1, 1, 1, 1, 1, 0, 1, 0, 0, 0, 0, 0, 0,\n",
              "        0, 0, 1, 0, 0]))"
            ]
          },
          "metadata": {},
          "execution_count": 46
        }
      ]
    },
    {
      "cell_type": "code",
      "source": [
        "AntColonyOptimization(Pcolor,pcolor,10,0.15,0.15,1234567,60)"
      ],
      "metadata": {
        "colab": {
          "base_uri": "https://localhost:8080/"
        },
        "id": "qiqKbD27_dP9",
        "outputId": "4234bd1d-1482-4b2b-f774-186cf5772e4b"
      },
      "execution_count": null,
      "outputs": [
        {
          "output_type": "execute_result",
          "data": {
            "text/plain": [
              "(344.0,\n",
              " array([0, 1, 0, 0, 1, 0, 0, 1, 0, 0, 0, 0, 1, 0, 1, 1, 1, 0, 0, 0, 1, 0,\n",
              "        0, 1, 0, 0, 0, 0, 0, 1, 1, 0, 1, 0, 1, 0, 0, 1, 0, 0, 1, 0, 0, 0,\n",
              "        0, 0, 0, 1, 0, 1, 0, 0, 1, 0, 1, 0, 0, 1, 1, 0, 0, 1, 0, 0, 1, 0,\n",
              "        1, 0, 0, 0, 1, 0, 0, 0, 1, 0, 0, 0, 0, 0, 0, 0, 1, 0, 0, 0, 0, 1,\n",
              "        1, 1, 0, 0, 1, 0, 0, 0, 0, 0, 1, 0, 1, 1, 0, 1, 1, 0, 0, 1, 1, 1,\n",
              "        0, 1, 0, 0, 0]))"
            ]
          },
          "metadata": {},
          "execution_count": 49
        }
      ]
    },
    {
      "cell_type": "code",
      "source": [
        "AntColonyOptimization(Pcolor,pcolor,10,0.15,0.15,1234567,120)"
      ],
      "metadata": {
        "colab": {
          "base_uri": "https://localhost:8080/"
        },
        "id": "HVNTdjG0_dw1",
        "outputId": "09a80f05-945b-459f-9d26-d915dfb8dd30"
      },
      "execution_count": null,
      "outputs": [
        {
          "output_type": "execute_result",
          "data": {
            "text/plain": [
              "(356.0,\n",
              " array([0, 0, 0, 0, 0, 0, 1, 1, 0, 1, 0, 1, 1, 0, 0, 0, 0, 0, 0, 1, 1, 0,\n",
              "        0, 0, 1, 0, 0, 0, 0, 0, 0, 1, 0, 1, 1, 1, 0, 0, 0, 0, 0, 1, 1, 0,\n",
              "        1, 0, 1, 0, 1, 0, 0, 0, 0, 1, 0, 0, 0, 0, 1, 1, 1, 0, 0, 0, 0, 0,\n",
              "        1, 0, 0, 0, 0, 1, 0, 0, 0, 0, 0, 1, 0, 0, 0, 0, 0, 0, 1, 1, 1, 1,\n",
              "        1, 1, 0, 0, 0, 0, 0, 0, 0, 0, 1, 0, 0, 0, 0, 0, 0, 0, 0, 0, 1, 0,\n",
              "        1, 0, 0, 0, 0]))"
            ]
          },
          "metadata": {},
          "execution_count": 50
        }
      ]
    },
    {
      "cell_type": "code",
      "source": [
        "AntColonyOptimization(Pcolor,pcolor,10,0.15,0.15,1234567,240)"
      ],
      "metadata": {
        "colab": {
          "base_uri": "https://localhost:8080/"
        },
        "id": "qhLeMle-_eT9",
        "outputId": "d2f69457-3b8a-4f2f-bf25-b7c5e7efcd48"
      },
      "execution_count": null,
      "outputs": [
        {
          "output_type": "execute_result",
          "data": {
            "text/plain": [
              "(357.0,\n",
              " array([0, 0, 0, 0, 0, 1, 0, 1, 0, 1, 0, 1, 0, 0, 0, 1, 0, 0, 0, 1, 0, 0,\n",
              "        0, 0, 0, 0, 0, 0, 1, 0, 1, 0, 1, 0, 0, 1, 0, 0, 0, 0, 1, 0, 0, 0,\n",
              "        1, 0, 0, 0, 0, 0, 0, 0, 0, 0, 0, 0, 1, 0, 1, 1, 0, 0, 0, 0, 0, 1,\n",
              "        0, 0, 0, 0, 0, 0, 0, 0, 0, 0, 0, 0, 0, 0, 0, 0, 1, 0, 0, 0, 0, 1,\n",
              "        0, 1, 0, 0, 0, 0, 0, 0, 0, 0, 0, 0, 0, 1, 0, 0, 0, 0, 0, 1, 1, 1,\n",
              "        1, 1, 1, 0, 1]))"
            ]
          },
          "metadata": {},
          "execution_count": 51
        }
      ]
    }
  ],
  "metadata": {
    "colab": {
      "name": "SAT Todas mis heurísticas",
      "provenance": [],
      "collapsed_sections": [
        "68nEIA4GuO4o",
        "gAagdgvUZ-ZJ",
        "T4ysdeIpaB9G",
        "RtoGpIq0WGZJ",
        "nL1oyyxJaF7F",
        "qWEnPj7dcwWF",
        "DfKTzUuYaLRN",
        "lhBbpE0uEFjv",
        "_5FAHHCK6ahm",
        "PJY-63xyeC_w",
        "WVOpLRjs2isi",
        "P3Djy4qblTQ8"
      ],
      "mount_file_id": "1jVaMikSe_XKM9OZcRnkupfNsnU6WLXzz",
      "authorship_tag": "ABX9TyMw+MJ+tbVaSVcU3+JGW8L4",
      "include_colab_link": true
    },
    "kernelspec": {
      "display_name": "Python 3",
      "name": "python3"
    },
    "language_info": {
      "name": "python"
    }
  },
  "nbformat": 4,
  "nbformat_minor": 0
}